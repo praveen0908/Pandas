{
 "cells": [
  {
   "cell_type": "code",
   "execution_count": 3,
   "metadata": {},
   "outputs": [],
   "source": [
    "import numpy as np\n",
    "import pandas as pd"
   ]
  },
  {
   "cell_type": "code",
   "execution_count": 4,
   "metadata": {},
   "outputs": [],
   "source": [
    "index = pd.date_range('1/1/2019', periods=6)"
   ]
  },
  {
   "cell_type": "code",
   "execution_count": 5,
   "metadata": {},
   "outputs": [],
   "source": [
    "df = pd.DataFrame(np.random.randn(6, 4), index=index,\n",
    "                  columns=['P', 'Q', 'R','S'])"
   ]
  },
  {
   "cell_type": "code",
   "execution_count": 6,
   "metadata": {},
   "outputs": [
    {
     "data": {
      "text/html": [
       "<div>\n",
       "<style scoped>\n",
       "    .dataframe tbody tr th:only-of-type {\n",
       "        vertical-align: middle;\n",
       "    }\n",
       "\n",
       "    .dataframe tbody tr th {\n",
       "        vertical-align: top;\n",
       "    }\n",
       "\n",
       "    .dataframe thead th {\n",
       "        text-align: right;\n",
       "    }\n",
       "</style>\n",
       "<table border=\"1\" class=\"dataframe\">\n",
       "  <thead>\n",
       "    <tr style=\"text-align: right;\">\n",
       "      <th></th>\n",
       "      <th>P</th>\n",
       "      <th>Q</th>\n",
       "      <th>R</th>\n",
       "      <th>S</th>\n",
       "    </tr>\n",
       "  </thead>\n",
       "  <tbody>\n",
       "    <tr>\n",
       "      <th>2019-01-01</th>\n",
       "      <td>-0.224690</td>\n",
       "      <td>0.214687</td>\n",
       "      <td>0.549003</td>\n",
       "      <td>1.210826</td>\n",
       "    </tr>\n",
       "    <tr>\n",
       "      <th>2019-01-02</th>\n",
       "      <td>0.908311</td>\n",
       "      <td>0.297399</td>\n",
       "      <td>0.906352</td>\n",
       "      <td>1.899176</td>\n",
       "    </tr>\n",
       "  </tbody>\n",
       "</table>\n",
       "</div>"
      ],
      "text/plain": [
       "                   P         Q         R         S\n",
       "2019-01-01 -0.224690  0.214687  0.549003  1.210826\n",
       "2019-01-02  0.908311  0.297399  0.906352  1.899176"
      ]
     },
     "execution_count": 6,
     "metadata": {},
     "output_type": "execute_result"
    }
   ],
   "source": [
    "df[:2]"
   ]
  },
  {
   "cell_type": "code",
   "execution_count": 7,
   "metadata": {},
   "outputs": [],
   "source": [
    "df.columns = [x.lower() for x in df.columns]"
   ]
  },
  {
   "cell_type": "code",
   "execution_count": 8,
   "metadata": {},
   "outputs": [
    {
     "data": {
      "text/html": [
       "<div>\n",
       "<style scoped>\n",
       "    .dataframe tbody tr th:only-of-type {\n",
       "        vertical-align: middle;\n",
       "    }\n",
       "\n",
       "    .dataframe tbody tr th {\n",
       "        vertical-align: top;\n",
       "    }\n",
       "\n",
       "    .dataframe thead th {\n",
       "        text-align: right;\n",
       "    }\n",
       "</style>\n",
       "<table border=\"1\" class=\"dataframe\">\n",
       "  <thead>\n",
       "    <tr style=\"text-align: right;\">\n",
       "      <th></th>\n",
       "      <th>p</th>\n",
       "      <th>q</th>\n",
       "      <th>r</th>\n",
       "      <th>s</th>\n",
       "    </tr>\n",
       "  </thead>\n",
       "  <tbody>\n",
       "    <tr>\n",
       "      <th>2019-01-01</th>\n",
       "      <td>-0.224690</td>\n",
       "      <td>0.214687</td>\n",
       "      <td>0.549003</td>\n",
       "      <td>1.210826</td>\n",
       "    </tr>\n",
       "    <tr>\n",
       "      <th>2019-01-02</th>\n",
       "      <td>0.908311</td>\n",
       "      <td>0.297399</td>\n",
       "      <td>0.906352</td>\n",
       "      <td>1.899176</td>\n",
       "    </tr>\n",
       "    <tr>\n",
       "      <th>2019-01-03</th>\n",
       "      <td>0.985992</td>\n",
       "      <td>0.929809</td>\n",
       "      <td>0.480651</td>\n",
       "      <td>-1.168464</td>\n",
       "    </tr>\n",
       "    <tr>\n",
       "      <th>2019-01-04</th>\n",
       "      <td>-0.380889</td>\n",
       "      <td>-0.315317</td>\n",
       "      <td>-1.078494</td>\n",
       "      <td>0.267148</td>\n",
       "    </tr>\n",
       "    <tr>\n",
       "      <th>2019-01-05</th>\n",
       "      <td>-0.845768</td>\n",
       "      <td>-1.134656</td>\n",
       "      <td>-0.925330</td>\n",
       "      <td>-2.668816</td>\n",
       "    </tr>\n",
       "    <tr>\n",
       "      <th>2019-01-06</th>\n",
       "      <td>-1.174685</td>\n",
       "      <td>0.767023</td>\n",
       "      <td>-1.120812</td>\n",
       "      <td>2.209424</td>\n",
       "    </tr>\n",
       "  </tbody>\n",
       "</table>\n",
       "</div>"
      ],
      "text/plain": [
       "                   p         q         r         s\n",
       "2019-01-01 -0.224690  0.214687  0.549003  1.210826\n",
       "2019-01-02  0.908311  0.297399  0.906352  1.899176\n",
       "2019-01-03  0.985992  0.929809  0.480651 -1.168464\n",
       "2019-01-04 -0.380889 -0.315317 -1.078494  0.267148\n",
       "2019-01-05 -0.845768 -1.134656 -0.925330 -2.668816\n",
       "2019-01-06 -1.174685  0.767023 -1.120812  2.209424"
      ]
     },
     "execution_count": 8,
     "metadata": {},
     "output_type": "execute_result"
    }
   ],
   "source": [
    "df"
   ]
  },
  {
   "cell_type": "markdown",
   "metadata": {},
   "source": [
    "Pandas objects (Index, Series, DataFrame) can be thought of as containers for arrays, which hold the actual data<br>\n",
    "and do the actual computation. For many types, the underlying array is a numpy.ndarray. However, pandas and 3rd party<br>\n",
    "libraries may extend NumPy’s type system to add support for custom arrays."
   ]
  },
  {
   "cell_type": "markdown",
   "metadata": {},
   "source": [
    "To get the actual data inside a Index or Series, use the .array property"
   ]
  },
  {
   "cell_type": "code",
   "execution_count": 10,
   "metadata": {},
   "outputs": [],
   "source": [
    "import numpy as np\n",
    "import pandas as pd"
   ]
  },
  {
   "cell_type": "code",
   "execution_count": 11,
   "metadata": {},
   "outputs": [],
   "source": [
    "s = pd.Series(np.random.randn(6), index=['a', 'b', 'c', 'd', 'e','f'])"
   ]
  },
  {
   "cell_type": "code",
   "execution_count": 12,
   "metadata": {},
   "outputs": [
    {
     "data": {
      "text/plain": [
       "<PandasArray>\n",
       "[ 0.33828889307955035,  -0.6398233192505693,   0.3983874045716683,\n",
       "   0.9673670376630227, -0.15334853250655173, -0.23822270531779657]\n",
       "Length: 6, dtype: float64"
      ]
     },
     "execution_count": 12,
     "metadata": {},
     "output_type": "execute_result"
    }
   ],
   "source": [
    "s.array"
   ]
  },
  {
   "cell_type": "code",
   "execution_count": 13,
   "metadata": {},
   "outputs": [
    {
     "data": {
      "text/plain": [
       "<PandasArray>\n",
       "['a', 'b', 'c', 'd', 'e', 'f']\n",
       "Length: 6, dtype: object"
      ]
     },
     "execution_count": 13,
     "metadata": {},
     "output_type": "execute_result"
    }
   ],
   "source": [
    "s.index.array"
   ]
  },
  {
   "cell_type": "markdown",
   "metadata": {},
   "source": [
    "array will always be an ExtensionArray. The exact details of what an ExtensionArray is and why pandas<br>\n",
    "uses them is a bit beyond the scope of this introduction."
   ]
  },
  {
   "cell_type": "markdown",
   "metadata": {},
   "source": [
    "If you know you need a NumPy array, use to_numpy() or numpy.asarray()."
   ]
  },
  {
   "cell_type": "code",
   "execution_count": 14,
   "metadata": {},
   "outputs": [
    {
     "data": {
      "text/plain": [
       "array([ 0.33828889, -0.63982332,  0.3983874 ,  0.96736704, -0.15334853,\n",
       "       -0.23822271])"
      ]
     },
     "execution_count": 14,
     "metadata": {},
     "output_type": "execute_result"
    }
   ],
   "source": [
    "s.to_numpy()"
   ]
  },
  {
   "cell_type": "code",
   "execution_count": 15,
   "metadata": {},
   "outputs": [
    {
     "data": {
      "text/plain": [
       "array([ 0.33828889, -0.63982332,  0.3983874 ,  0.96736704, -0.15334853,\n",
       "       -0.23822271])"
      ]
     },
     "execution_count": 15,
     "metadata": {},
     "output_type": "execute_result"
    }
   ],
   "source": [
    "np.asarray(s)"
   ]
  },
  {
   "cell_type": "markdown",
   "metadata": {},
   "source": [
    "When the Series or Index is backed by an ExtensionArray, to_numpy() may involve copying data and coercing values. "
   ]
  },
  {
   "cell_type": "markdown",
   "metadata": {},
   "source": [
    "to_numpy() gives some control over the dtype of the resulting numpy.ndarray. For example, consider<br> \n",
    "datetimes with timezones. NumPy doesn’t have a dtype to represent timezone-aware datetimes, so there are<br> \n",
    "two possibly useful representations:"
   ]
  },
  {
   "cell_type": "markdown",
   "metadata": {},
   "source": [
    "1. An object-dtype numpy.ndarray with Timestamp objects, each with the correct tz<br>\n",
    "2. A datetime64[ns] -dtype numpy.ndarray, where the values have been converted to UTC<br>\n",
    "and the timezone discarded"
   ]
  },
  {
   "cell_type": "markdown",
   "metadata": {},
   "source": [
    "Timezones may be preserved with dtype=object"
   ]
  },
  {
   "cell_type": "code",
   "execution_count": 19,
   "metadata": {},
   "outputs": [],
   "source": [
    "ser = pd.Series(pd.date_range('2019', periods=4, tz=\"CET\"))"
   ]
  },
  {
   "cell_type": "code",
   "execution_count": 20,
   "metadata": {},
   "outputs": [
    {
     "data": {
      "text/plain": [
       "array([Timestamp('2019-01-01 00:00:00+0100', tz='CET', freq='D'),\n",
       "       Timestamp('2019-01-02 00:00:00+0100', tz='CET', freq='D'),\n",
       "       Timestamp('2019-01-03 00:00:00+0100', tz='CET', freq='D'),\n",
       "       Timestamp('2019-01-04 00:00:00+0100', tz='CET', freq='D')],\n",
       "      dtype=object)"
      ]
     },
     "execution_count": 20,
     "metadata": {},
     "output_type": "execute_result"
    }
   ],
   "source": [
    "ser.to_numpy(dtype=object)"
   ]
  },
  {
   "cell_type": "markdown",
   "metadata": {},
   "source": [
    "Or thrown away with dtype='datetime64[ns]'"
   ]
  },
  {
   "cell_type": "code",
   "execution_count": 21,
   "metadata": {},
   "outputs": [
    {
     "data": {
      "text/plain": [
       "array(['2018-12-31T23:00:00.000000000', '2019-01-01T23:00:00.000000000',\n",
       "       '2019-01-02T23:00:00.000000000', '2019-01-03T23:00:00.000000000'],\n",
       "      dtype='datetime64[ns]')"
      ]
     },
     "execution_count": 21,
     "metadata": {},
     "output_type": "execute_result"
    }
   ],
   "source": [
    "ser.to_numpy(dtype=\"datetime64[ns]\")"
   ]
  },
  {
   "cell_type": "markdown",
   "metadata": {},
   "source": [
    "Getting the “raw data” inside a DataFrame is possibly a bit more complex. When your DataFrame only has a single<br>\n",
    "data type for all the columns, DataFrame.to_numpy() will return the underlying data:"
   ]
  },
  {
   "cell_type": "code",
   "execution_count": 22,
   "metadata": {},
   "outputs": [
    {
     "data": {
      "text/plain": [
       "array([[-0.22469034,  0.21468709,  0.54900255,  1.21082613],\n",
       "       [ 0.90831079,  0.29739917,  0.90635223,  1.89917583],\n",
       "       [ 0.98599168,  0.92980921,  0.48065086, -1.16846406],\n",
       "       [-0.38088897, -0.31531683, -1.07849442,  0.26714793],\n",
       "       [-0.84576838, -1.13465577, -0.92533   , -2.66881593],\n",
       "       [-1.17468468,  0.76702328, -1.12081156,  2.20942395]])"
      ]
     },
     "execution_count": 22,
     "metadata": {},
     "output_type": "execute_result"
    }
   ],
   "source": [
    "df.to_numpy()"
   ]
  },
  {
   "cell_type": "markdown",
   "metadata": {},
   "source": [
    "If a DataFrame contains homogeneously-typed data, the ndarray can actually be modified in-place, and the changes<br>\n",
    "will be reflected in the data structure.For heterogeneous data (e.g. some of the DataFrame’s columns are not all<br>\n",
    "the same dtype), this will not be the case.The values attribute itself, unlike the axis labels, cannot be assigned to."
   ]
  },
  {
   "cell_type": "markdown",
   "metadata": {},
   "source": [
    "**Note:** When working with heterogeneous data, the dtype of the resulting ndarray will be chosen to accommodate<br>\n",
    "all of the data involved.For example, if strings are involved, the result will be of object dtype. If there are<br>\n",
    "only floats and integers, the resulting array will be of float dtype. "
   ]
  },
  {
   "cell_type": "markdown",
   "metadata": {},
   "source": [
    "In the past, pandas recommended Series.values or DataFrame.values for extracting the data from a Series or DataFrame.<br>\n",
    "You’ll still find references to these in old code bases and online. Going forward, we recommend avoiding .values and<br>\n",
    "using .array or .to_numpy(). .values has the following drawbacks:<br>\n",
    "    \n",
    "1. When your Series contains an extension type, it’s unclear whether Series.values returns a NumPy array or<br>\n",
    "the extension array. Series.array will always return an ExtensionArray, and will never copy data.Series.to_numpy()<br>\n",
    "will always return a NumPy array, potentially at the cost of copying / coercing values.\n",
    "\n",
    "2. When your DataFrame contains a mixture of data types, DataFrame.values may involve copying data and coercing<br>\n",
    "values to a common dtype, a relatively expensive operation. DataFrame.to_numpy(), being a method, makes it clearer<br>\n",
    "that the returned NumPy array may not be a view on the same data in the DataFrame."
   ]
  }
 ],
 "metadata": {
  "kernelspec": {
   "display_name": "Python 3",
   "language": "python",
   "name": "python3"
  },
  "language_info": {
   "codemirror_mode": {
    "name": "ipython",
    "version": 3
   },
   "file_extension": ".py",
   "mimetype": "text/x-python",
   "name": "python",
   "nbconvert_exporter": "python",
   "pygments_lexer": "ipython3",
   "version": "3.7.1"
  }
 },
 "nbformat": 4,
 "nbformat_minor": 2
}
