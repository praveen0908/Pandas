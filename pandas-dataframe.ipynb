{
 "cells": [
  {
   "cell_type": "markdown",
   "metadata": {},
   "source": [
    "**From dict of Series or dicts**"
   ]
  },
  {
   "cell_type": "code",
   "execution_count": 1,
   "metadata": {},
   "outputs": [],
   "source": [
    "import numpy as np\n",
    "import pandas as pd"
   ]
  },
  {
   "cell_type": "code",
   "execution_count": 2,
   "metadata": {},
   "outputs": [],
   "source": [
    "d = {'one': pd.Series([2., 3., 4.], index=['p', 'q', 'r']),\n",
    "     'two': pd.Series([2., 3., 4., 5.], index=['p', 'q', 'r', 's'])}"
   ]
  },
  {
   "cell_type": "code",
   "execution_count": 3,
   "metadata": {},
   "outputs": [
    {
     "data": {
      "text/html": [
       "<div>\n",
       "<style scoped>\n",
       "    .dataframe tbody tr th:only-of-type {\n",
       "        vertical-align: middle;\n",
       "    }\n",
       "\n",
       "    .dataframe tbody tr th {\n",
       "        vertical-align: top;\n",
       "    }\n",
       "\n",
       "    .dataframe thead th {\n",
       "        text-align: right;\n",
       "    }\n",
       "</style>\n",
       "<table border=\"1\" class=\"dataframe\">\n",
       "  <thead>\n",
       "    <tr style=\"text-align: right;\">\n",
       "      <th></th>\n",
       "      <th>one</th>\n",
       "      <th>two</th>\n",
       "    </tr>\n",
       "  </thead>\n",
       "  <tbody>\n",
       "    <tr>\n",
       "      <th>p</th>\n",
       "      <td>2.0</td>\n",
       "      <td>2.0</td>\n",
       "    </tr>\n",
       "    <tr>\n",
       "      <th>q</th>\n",
       "      <td>3.0</td>\n",
       "      <td>3.0</td>\n",
       "    </tr>\n",
       "    <tr>\n",
       "      <th>r</th>\n",
       "      <td>4.0</td>\n",
       "      <td>4.0</td>\n",
       "    </tr>\n",
       "    <tr>\n",
       "      <th>s</th>\n",
       "      <td>NaN</td>\n",
       "      <td>5.0</td>\n",
       "    </tr>\n",
       "  </tbody>\n",
       "</table>\n",
       "</div>"
      ],
      "text/plain": [
       "   one  two\n",
       "p  2.0  2.0\n",
       "q  3.0  3.0\n",
       "r  4.0  4.0\n",
       "s  NaN  5.0"
      ]
     },
     "execution_count": 3,
     "metadata": {},
     "output_type": "execute_result"
    }
   ],
   "source": [
    "df = pd.DataFrame(d)\n",
    "df"
   ]
  },
  {
   "cell_type": "code",
   "execution_count": 4,
   "metadata": {},
   "outputs": [
    {
     "data": {
      "text/html": [
       "<div>\n",
       "<style scoped>\n",
       "    .dataframe tbody tr th:only-of-type {\n",
       "        vertical-align: middle;\n",
       "    }\n",
       "\n",
       "    .dataframe tbody tr th {\n",
       "        vertical-align: top;\n",
       "    }\n",
       "\n",
       "    .dataframe thead th {\n",
       "        text-align: right;\n",
       "    }\n",
       "</style>\n",
       "<table border=\"1\" class=\"dataframe\">\n",
       "  <thead>\n",
       "    <tr style=\"text-align: right;\">\n",
       "      <th></th>\n",
       "      <th>one</th>\n",
       "      <th>two</th>\n",
       "    </tr>\n",
       "  </thead>\n",
       "  <tbody>\n",
       "    <tr>\n",
       "      <th>s</th>\n",
       "      <td>NaN</td>\n",
       "      <td>5.0</td>\n",
       "    </tr>\n",
       "    <tr>\n",
       "      <th>q</th>\n",
       "      <td>3.0</td>\n",
       "      <td>3.0</td>\n",
       "    </tr>\n",
       "    <tr>\n",
       "      <th>p</th>\n",
       "      <td>2.0</td>\n",
       "      <td>2.0</td>\n",
       "    </tr>\n",
       "  </tbody>\n",
       "</table>\n",
       "</div>"
      ],
      "text/plain": [
       "   one  two\n",
       "s  NaN  5.0\n",
       "q  3.0  3.0\n",
       "p  2.0  2.0"
      ]
     },
     "execution_count": 4,
     "metadata": {},
     "output_type": "execute_result"
    }
   ],
   "source": [
    "pd.DataFrame(d, index=['s', 'q', 'p'])"
   ]
  },
  {
   "cell_type": "code",
   "execution_count": 5,
   "metadata": {},
   "outputs": [
    {
     "data": {
      "text/html": [
       "<div>\n",
       "<style scoped>\n",
       "    .dataframe tbody tr th:only-of-type {\n",
       "        vertical-align: middle;\n",
       "    }\n",
       "\n",
       "    .dataframe tbody tr th {\n",
       "        vertical-align: top;\n",
       "    }\n",
       "\n",
       "    .dataframe thead th {\n",
       "        text-align: right;\n",
       "    }\n",
       "</style>\n",
       "<table border=\"1\" class=\"dataframe\">\n",
       "  <thead>\n",
       "    <tr style=\"text-align: right;\">\n",
       "      <th></th>\n",
       "      <th>two</th>\n",
       "      <th>three</th>\n",
       "    </tr>\n",
       "  </thead>\n",
       "  <tbody>\n",
       "    <tr>\n",
       "      <th>s</th>\n",
       "      <td>5.0</td>\n",
       "      <td>NaN</td>\n",
       "    </tr>\n",
       "    <tr>\n",
       "      <th>q</th>\n",
       "      <td>3.0</td>\n",
       "      <td>NaN</td>\n",
       "    </tr>\n",
       "    <tr>\n",
       "      <th>p</th>\n",
       "      <td>2.0</td>\n",
       "      <td>NaN</td>\n",
       "    </tr>\n",
       "  </tbody>\n",
       "</table>\n",
       "</div>"
      ],
      "text/plain": [
       "   two three\n",
       "s  5.0   NaN\n",
       "q  3.0   NaN\n",
       "p  2.0   NaN"
      ]
     },
     "execution_count": 5,
     "metadata": {},
     "output_type": "execute_result"
    }
   ],
   "source": [
    "pd.DataFrame(d, index=['s', 'q', 'p'], columns=['two', 'three'])"
   ]
  },
  {
   "cell_type": "markdown",
   "metadata": {},
   "source": [
    "The row and column labels can be accessed respectively by accessing the index and columns attributes:"
   ]
  },
  {
   "cell_type": "code",
   "execution_count": 6,
   "metadata": {},
   "outputs": [
    {
     "data": {
      "text/plain": [
       "Index(['p', 'q', 'r', 's'], dtype='object')"
      ]
     },
     "execution_count": 6,
     "metadata": {},
     "output_type": "execute_result"
    }
   ],
   "source": [
    "df.index"
   ]
  },
  {
   "cell_type": "code",
   "execution_count": 7,
   "metadata": {},
   "outputs": [
    {
     "data": {
      "text/plain": [
       "Index(['one', 'two'], dtype='object')"
      ]
     },
     "execution_count": 7,
     "metadata": {},
     "output_type": "execute_result"
    }
   ],
   "source": [
    "df.columns"
   ]
  },
  {
   "cell_type": "markdown",
   "metadata": {},
   "source": [
    "**From dict of ndarrays / lists**"
   ]
  },
  {
   "cell_type": "markdown",
   "metadata": {},
   "source": [
    "The ndarrays must all be the same length.<br> \n",
    "If an index is passed, it must clearly also be the same length as the arrays.<br>\n",
    "If no index is passed, the result will be range(n), where n is the array length."
   ]
  },
  {
   "cell_type": "code",
   "execution_count": 8,
   "metadata": {},
   "outputs": [],
   "source": [
    "d = {'one': [4., 5., 6., 7.],\n",
    "     'two': [7., 6., 5., 4.]}"
   ]
  },
  {
   "cell_type": "code",
   "execution_count": 9,
   "metadata": {},
   "outputs": [
    {
     "data": {
      "text/html": [
       "<div>\n",
       "<style scoped>\n",
       "    .dataframe tbody tr th:only-of-type {\n",
       "        vertical-align: middle;\n",
       "    }\n",
       "\n",
       "    .dataframe tbody tr th {\n",
       "        vertical-align: top;\n",
       "    }\n",
       "\n",
       "    .dataframe thead th {\n",
       "        text-align: right;\n",
       "    }\n",
       "</style>\n",
       "<table border=\"1\" class=\"dataframe\">\n",
       "  <thead>\n",
       "    <tr style=\"text-align: right;\">\n",
       "      <th></th>\n",
       "      <th>one</th>\n",
       "      <th>two</th>\n",
       "    </tr>\n",
       "  </thead>\n",
       "  <tbody>\n",
       "    <tr>\n",
       "      <th>0</th>\n",
       "      <td>4.0</td>\n",
       "      <td>7.0</td>\n",
       "    </tr>\n",
       "    <tr>\n",
       "      <th>1</th>\n",
       "      <td>5.0</td>\n",
       "      <td>6.0</td>\n",
       "    </tr>\n",
       "    <tr>\n",
       "      <th>2</th>\n",
       "      <td>6.0</td>\n",
       "      <td>5.0</td>\n",
       "    </tr>\n",
       "    <tr>\n",
       "      <th>3</th>\n",
       "      <td>7.0</td>\n",
       "      <td>4.0</td>\n",
       "    </tr>\n",
       "  </tbody>\n",
       "</table>\n",
       "</div>"
      ],
      "text/plain": [
       "   one  two\n",
       "0  4.0  7.0\n",
       "1  5.0  6.0\n",
       "2  6.0  5.0\n",
       "3  7.0  4.0"
      ]
     },
     "execution_count": 9,
     "metadata": {},
     "output_type": "execute_result"
    }
   ],
   "source": [
    "pd.DataFrame(d)"
   ]
  },
  {
   "cell_type": "code",
   "execution_count": 10,
   "metadata": {},
   "outputs": [
    {
     "data": {
      "text/html": [
       "<div>\n",
       "<style scoped>\n",
       "    .dataframe tbody tr th:only-of-type {\n",
       "        vertical-align: middle;\n",
       "    }\n",
       "\n",
       "    .dataframe tbody tr th {\n",
       "        vertical-align: top;\n",
       "    }\n",
       "\n",
       "    .dataframe thead th {\n",
       "        text-align: right;\n",
       "    }\n",
       "</style>\n",
       "<table border=\"1\" class=\"dataframe\">\n",
       "  <thead>\n",
       "    <tr style=\"text-align: right;\">\n",
       "      <th></th>\n",
       "      <th>one</th>\n",
       "      <th>two</th>\n",
       "    </tr>\n",
       "  </thead>\n",
       "  <tbody>\n",
       "    <tr>\n",
       "      <th>w</th>\n",
       "      <td>4.0</td>\n",
       "      <td>7.0</td>\n",
       "    </tr>\n",
       "    <tr>\n",
       "      <th>x</th>\n",
       "      <td>5.0</td>\n",
       "      <td>6.0</td>\n",
       "    </tr>\n",
       "    <tr>\n",
       "      <th>y</th>\n",
       "      <td>6.0</td>\n",
       "      <td>5.0</td>\n",
       "    </tr>\n",
       "    <tr>\n",
       "      <th>z</th>\n",
       "      <td>7.0</td>\n",
       "      <td>4.0</td>\n",
       "    </tr>\n",
       "  </tbody>\n",
       "</table>\n",
       "</div>"
      ],
      "text/plain": [
       "   one  two\n",
       "w  4.0  7.0\n",
       "x  5.0  6.0\n",
       "y  6.0  5.0\n",
       "z  7.0  4.0"
      ]
     },
     "execution_count": 10,
     "metadata": {},
     "output_type": "execute_result"
    }
   ],
   "source": [
    "pd.DataFrame(d, index=['w', 'x', 'y', 'z'])"
   ]
  },
  {
   "cell_type": "markdown",
   "metadata": {},
   "source": [
    "**From structured or record array:**"
   ]
  },
  {
   "cell_type": "code",
   "execution_count": 11,
   "metadata": {},
   "outputs": [],
   "source": [
    "data = np.zeros((2, ), dtype=[('P', 'i4'), ('Q', 'f4'), ('R', 'a10')])"
   ]
  },
  {
   "cell_type": "code",
   "execution_count": 12,
   "metadata": {},
   "outputs": [],
   "source": [
    "data[:] = [(2, 3., 'Best'), (3, 4., \"Friend\")]"
   ]
  },
  {
   "cell_type": "code",
   "execution_count": 13,
   "metadata": {},
   "outputs": [
    {
     "data": {
      "text/html": [
       "<div>\n",
       "<style scoped>\n",
       "    .dataframe tbody tr th:only-of-type {\n",
       "        vertical-align: middle;\n",
       "    }\n",
       "\n",
       "    .dataframe tbody tr th {\n",
       "        vertical-align: top;\n",
       "    }\n",
       "\n",
       "    .dataframe thead th {\n",
       "        text-align: right;\n",
       "    }\n",
       "</style>\n",
       "<table border=\"1\" class=\"dataframe\">\n",
       "  <thead>\n",
       "    <tr style=\"text-align: right;\">\n",
       "      <th></th>\n",
       "      <th>P</th>\n",
       "      <th>Q</th>\n",
       "      <th>R</th>\n",
       "    </tr>\n",
       "  </thead>\n",
       "  <tbody>\n",
       "    <tr>\n",
       "      <th>0</th>\n",
       "      <td>2</td>\n",
       "      <td>3.0</td>\n",
       "      <td>b'Best'</td>\n",
       "    </tr>\n",
       "    <tr>\n",
       "      <th>1</th>\n",
       "      <td>3</td>\n",
       "      <td>4.0</td>\n",
       "      <td>b'Friend'</td>\n",
       "    </tr>\n",
       "  </tbody>\n",
       "</table>\n",
       "</div>"
      ],
      "text/plain": [
       "   P    Q          R\n",
       "0  2  3.0    b'Best'\n",
       "1  3  4.0  b'Friend'"
      ]
     },
     "execution_count": 13,
     "metadata": {},
     "output_type": "execute_result"
    }
   ],
   "source": [
    "pd.DataFrame(data)"
   ]
  },
  {
   "cell_type": "code",
   "execution_count": 14,
   "metadata": {},
   "outputs": [
    {
     "data": {
      "text/html": [
       "<div>\n",
       "<style scoped>\n",
       "    .dataframe tbody tr th:only-of-type {\n",
       "        vertical-align: middle;\n",
       "    }\n",
       "\n",
       "    .dataframe tbody tr th {\n",
       "        vertical-align: top;\n",
       "    }\n",
       "\n",
       "    .dataframe thead th {\n",
       "        text-align: right;\n",
       "    }\n",
       "</style>\n",
       "<table border=\"1\" class=\"dataframe\">\n",
       "  <thead>\n",
       "    <tr style=\"text-align: right;\">\n",
       "      <th></th>\n",
       "      <th>P</th>\n",
       "      <th>Q</th>\n",
       "      <th>R</th>\n",
       "    </tr>\n",
       "  </thead>\n",
       "  <tbody>\n",
       "    <tr>\n",
       "      <th>first</th>\n",
       "      <td>2</td>\n",
       "      <td>3.0</td>\n",
       "      <td>b'Best'</td>\n",
       "    </tr>\n",
       "    <tr>\n",
       "      <th>second</th>\n",
       "      <td>3</td>\n",
       "      <td>4.0</td>\n",
       "      <td>b'Friend'</td>\n",
       "    </tr>\n",
       "  </tbody>\n",
       "</table>\n",
       "</div>"
      ],
      "text/plain": [
       "        P    Q          R\n",
       "first   2  3.0    b'Best'\n",
       "second  3  4.0  b'Friend'"
      ]
     },
     "execution_count": 14,
     "metadata": {},
     "output_type": "execute_result"
    }
   ],
   "source": [
    "pd.DataFrame(data, index=['first', 'second'])"
   ]
  },
  {
   "cell_type": "code",
   "execution_count": 15,
   "metadata": {},
   "outputs": [
    {
     "data": {
      "text/html": [
       "<div>\n",
       "<style scoped>\n",
       "    .dataframe tbody tr th:only-of-type {\n",
       "        vertical-align: middle;\n",
       "    }\n",
       "\n",
       "    .dataframe tbody tr th {\n",
       "        vertical-align: top;\n",
       "    }\n",
       "\n",
       "    .dataframe thead th {\n",
       "        text-align: right;\n",
       "    }\n",
       "</style>\n",
       "<table border=\"1\" class=\"dataframe\">\n",
       "  <thead>\n",
       "    <tr style=\"text-align: right;\">\n",
       "      <th></th>\n",
       "      <th>R</th>\n",
       "      <th>P</th>\n",
       "      <th>Q</th>\n",
       "    </tr>\n",
       "  </thead>\n",
       "  <tbody>\n",
       "    <tr>\n",
       "      <th>0</th>\n",
       "      <td>b'Best'</td>\n",
       "      <td>2</td>\n",
       "      <td>3.0</td>\n",
       "    </tr>\n",
       "    <tr>\n",
       "      <th>1</th>\n",
       "      <td>b'Friend'</td>\n",
       "      <td>3</td>\n",
       "      <td>4.0</td>\n",
       "    </tr>\n",
       "  </tbody>\n",
       "</table>\n",
       "</div>"
      ],
      "text/plain": [
       "           R  P    Q\n",
       "0    b'Best'  2  3.0\n",
       "1  b'Friend'  3  4.0"
      ]
     },
     "execution_count": 15,
     "metadata": {},
     "output_type": "execute_result"
    }
   ],
   "source": [
    "pd.DataFrame(data, columns=['R', 'P', 'Q'])"
   ]
  },
  {
   "cell_type": "markdown",
   "metadata": {},
   "source": [
    "**From a list of dicts**"
   ]
  },
  {
   "cell_type": "code",
   "execution_count": 16,
   "metadata": {},
   "outputs": [],
   "source": [
    "data2 = [{'p': 2, 'q': 4}, {'p': 5, 'q': 10, 'r': 15}]"
   ]
  },
  {
   "cell_type": "code",
   "execution_count": 17,
   "metadata": {},
   "outputs": [
    {
     "data": {
      "text/html": [
       "<div>\n",
       "<style scoped>\n",
       "    .dataframe tbody tr th:only-of-type {\n",
       "        vertical-align: middle;\n",
       "    }\n",
       "\n",
       "    .dataframe tbody tr th {\n",
       "        vertical-align: top;\n",
       "    }\n",
       "\n",
       "    .dataframe thead th {\n",
       "        text-align: right;\n",
       "    }\n",
       "</style>\n",
       "<table border=\"1\" class=\"dataframe\">\n",
       "  <thead>\n",
       "    <tr style=\"text-align: right;\">\n",
       "      <th></th>\n",
       "      <th>p</th>\n",
       "      <th>q</th>\n",
       "      <th>r</th>\n",
       "    </tr>\n",
       "  </thead>\n",
       "  <tbody>\n",
       "    <tr>\n",
       "      <th>0</th>\n",
       "      <td>2</td>\n",
       "      <td>4</td>\n",
       "      <td>NaN</td>\n",
       "    </tr>\n",
       "    <tr>\n",
       "      <th>1</th>\n",
       "      <td>5</td>\n",
       "      <td>10</td>\n",
       "      <td>15.0</td>\n",
       "    </tr>\n",
       "  </tbody>\n",
       "</table>\n",
       "</div>"
      ],
      "text/plain": [
       "   p   q     r\n",
       "0  2   4   NaN\n",
       "1  5  10  15.0"
      ]
     },
     "execution_count": 17,
     "metadata": {},
     "output_type": "execute_result"
    }
   ],
   "source": [
    "pd.DataFrame(data2)"
   ]
  },
  {
   "cell_type": "code",
   "execution_count": 18,
   "metadata": {},
   "outputs": [
    {
     "data": {
      "text/html": [
       "<div>\n",
       "<style scoped>\n",
       "    .dataframe tbody tr th:only-of-type {\n",
       "        vertical-align: middle;\n",
       "    }\n",
       "\n",
       "    .dataframe tbody tr th {\n",
       "        vertical-align: top;\n",
       "    }\n",
       "\n",
       "    .dataframe thead th {\n",
       "        text-align: right;\n",
       "    }\n",
       "</style>\n",
       "<table border=\"1\" class=\"dataframe\">\n",
       "  <thead>\n",
       "    <tr style=\"text-align: right;\">\n",
       "      <th></th>\n",
       "      <th>p</th>\n",
       "      <th>q</th>\n",
       "      <th>r</th>\n",
       "    </tr>\n",
       "  </thead>\n",
       "  <tbody>\n",
       "    <tr>\n",
       "      <th>first</th>\n",
       "      <td>2</td>\n",
       "      <td>4</td>\n",
       "      <td>NaN</td>\n",
       "    </tr>\n",
       "    <tr>\n",
       "      <th>second</th>\n",
       "      <td>5</td>\n",
       "      <td>10</td>\n",
       "      <td>15.0</td>\n",
       "    </tr>\n",
       "  </tbody>\n",
       "</table>\n",
       "</div>"
      ],
      "text/plain": [
       "        p   q     r\n",
       "first   2   4   NaN\n",
       "second  5  10  15.0"
      ]
     },
     "execution_count": 18,
     "metadata": {},
     "output_type": "execute_result"
    }
   ],
   "source": [
    "pd.DataFrame(data2, index=['first', 'second'])"
   ]
  },
  {
   "cell_type": "code",
   "execution_count": 19,
   "metadata": {},
   "outputs": [
    {
     "data": {
      "text/html": [
       "<div>\n",
       "<style scoped>\n",
       "    .dataframe tbody tr th:only-of-type {\n",
       "        vertical-align: middle;\n",
       "    }\n",
       "\n",
       "    .dataframe tbody tr th {\n",
       "        vertical-align: top;\n",
       "    }\n",
       "\n",
       "    .dataframe thead th {\n",
       "        text-align: right;\n",
       "    }\n",
       "</style>\n",
       "<table border=\"1\" class=\"dataframe\">\n",
       "  <thead>\n",
       "    <tr style=\"text-align: right;\">\n",
       "      <th></th>\n",
       "      <th>p</th>\n",
       "      <th>q</th>\n",
       "    </tr>\n",
       "  </thead>\n",
       "  <tbody>\n",
       "    <tr>\n",
       "      <th>0</th>\n",
       "      <td>2</td>\n",
       "      <td>4</td>\n",
       "    </tr>\n",
       "    <tr>\n",
       "      <th>1</th>\n",
       "      <td>5</td>\n",
       "      <td>10</td>\n",
       "    </tr>\n",
       "  </tbody>\n",
       "</table>\n",
       "</div>"
      ],
      "text/plain": [
       "   p   q\n",
       "0  2   4\n",
       "1  5  10"
      ]
     },
     "execution_count": 19,
     "metadata": {},
     "output_type": "execute_result"
    }
   ],
   "source": [
    "pd.DataFrame(data2, columns=['p', 'q'])"
   ]
  },
  {
   "cell_type": "markdown",
   "metadata": {},
   "source": [
    "**From a dict of tuples**<br>\n",
    "You can automatically create a MultiIndexed frame by passing a tuples dictionary."
   ]
  },
  {
   "cell_type": "code",
   "execution_count": 20,
   "metadata": {},
   "outputs": [
    {
     "data": {
      "text/html": [
       "<div>\n",
       "<style scoped>\n",
       "    .dataframe tbody tr th:only-of-type {\n",
       "        vertical-align: middle;\n",
       "    }\n",
       "\n",
       "    .dataframe tbody tr th {\n",
       "        vertical-align: top;\n",
       "    }\n",
       "\n",
       "    .dataframe thead tr th {\n",
       "        text-align: left;\n",
       "    }\n",
       "</style>\n",
       "<table border=\"1\" class=\"dataframe\">\n",
       "  <thead>\n",
       "    <tr>\n",
       "      <th></th>\n",
       "      <th></th>\n",
       "      <th colspan=\"3\" halign=\"left\">p</th>\n",
       "      <th colspan=\"2\" halign=\"left\">q</th>\n",
       "    </tr>\n",
       "    <tr>\n",
       "      <th></th>\n",
       "      <th></th>\n",
       "      <th>q</th>\n",
       "      <th>p</th>\n",
       "      <th>r</th>\n",
       "      <th>p</th>\n",
       "      <th>q</th>\n",
       "    </tr>\n",
       "  </thead>\n",
       "  <tbody>\n",
       "    <tr>\n",
       "      <th rowspan=\"3\" valign=\"top\">P</th>\n",
       "      <th>Q</th>\n",
       "      <td>2.0</td>\n",
       "      <td>3.0</td>\n",
       "      <td>6.0</td>\n",
       "      <td>7.0</td>\n",
       "      <td>9.0</td>\n",
       "    </tr>\n",
       "    <tr>\n",
       "      <th>R</th>\n",
       "      <td>1.0</td>\n",
       "      <td>4.0</td>\n",
       "      <td>5.0</td>\n",
       "      <td>8.0</td>\n",
       "      <td>NaN</td>\n",
       "    </tr>\n",
       "    <tr>\n",
       "      <th>S</th>\n",
       "      <td>NaN</td>\n",
       "      <td>NaN</td>\n",
       "      <td>NaN</td>\n",
       "      <td>NaN</td>\n",
       "      <td>10.0</td>\n",
       "    </tr>\n",
       "  </tbody>\n",
       "</table>\n",
       "</div>"
      ],
      "text/plain": [
       "       p              q      \n",
       "       q    p    r    p     q\n",
       "P Q  2.0  3.0  6.0  7.0   9.0\n",
       "  R  1.0  4.0  5.0  8.0   NaN\n",
       "  S  NaN  NaN  NaN  NaN  10.0"
      ]
     },
     "execution_count": 20,
     "metadata": {},
     "output_type": "execute_result"
    }
   ],
   "source": [
    "pd.DataFrame({('p', 'q'): {('P', 'Q'): 2, ('P', 'R'): 1},\n",
    "               ('p', 'p'): {('P', 'R'): 4, ('P', 'Q'): 3},\n",
    "               ('p', 'r'): {('P', 'Q'): 6, ('P', 'R'): 5},\n",
    "               ('q', 'p'): {('P', 'R'): 8, ('P', 'Q'): 7},\n",
    "               ('q', 'q'): {('P', 'S'): 10, ('P', 'Q'): 9}})"
   ]
  },
  {
   "cell_type": "markdown",
   "metadata": {},
   "source": [
    "**Missing data**"
   ]
  },
  {
   "cell_type": "markdown",
   "metadata": {},
   "source": [
    "To construct a DataFrame with missing data, we use np.nan to represent missing values.<br>\n",
    "Alternatively, you may pass a numpy.MaskedArray as the data argument to the DataFrame<br>\n",
    "constructor, and its masked entries will be considered missing."
   ]
  },
  {
   "cell_type": "code",
   "execution_count": 21,
   "metadata": {},
   "outputs": [],
   "source": [
    "df = pd.DataFrame(np.random.randn(4, 3), index=['a', 'b', 'c', 'd'],\n",
    "                  columns=['one', 'two', 'three'])"
   ]
  },
  {
   "cell_type": "code",
   "execution_count": 22,
   "metadata": {},
   "outputs": [],
   "source": [
    "df['four'] = 'bar'"
   ]
  },
  {
   "cell_type": "code",
   "execution_count": 23,
   "metadata": {},
   "outputs": [
    {
     "data": {
      "text/html": [
       "<div>\n",
       "<style scoped>\n",
       "    .dataframe tbody tr th:only-of-type {\n",
       "        vertical-align: middle;\n",
       "    }\n",
       "\n",
       "    .dataframe tbody tr th {\n",
       "        vertical-align: top;\n",
       "    }\n",
       "\n",
       "    .dataframe thead th {\n",
       "        text-align: right;\n",
       "    }\n",
       "</style>\n",
       "<table border=\"1\" class=\"dataframe\">\n",
       "  <thead>\n",
       "    <tr style=\"text-align: right;\">\n",
       "      <th></th>\n",
       "      <th>one</th>\n",
       "      <th>two</th>\n",
       "      <th>three</th>\n",
       "      <th>four</th>\n",
       "      <th>five</th>\n",
       "    </tr>\n",
       "  </thead>\n",
       "  <tbody>\n",
       "    <tr>\n",
       "      <th>a</th>\n",
       "      <td>0.374851</td>\n",
       "      <td>1.575271</td>\n",
       "      <td>-2.633000</td>\n",
       "      <td>bar</td>\n",
       "      <td>True</td>\n",
       "    </tr>\n",
       "    <tr>\n",
       "      <th>b</th>\n",
       "      <td>-0.722451</td>\n",
       "      <td>-0.446845</td>\n",
       "      <td>0.933967</td>\n",
       "      <td>bar</td>\n",
       "      <td>False</td>\n",
       "    </tr>\n",
       "    <tr>\n",
       "      <th>c</th>\n",
       "      <td>-1.386522</td>\n",
       "      <td>1.575828</td>\n",
       "      <td>2.371845</td>\n",
       "      <td>bar</td>\n",
       "      <td>False</td>\n",
       "    </tr>\n",
       "    <tr>\n",
       "      <th>d</th>\n",
       "      <td>1.422895</td>\n",
       "      <td>-1.145874</td>\n",
       "      <td>1.347855</td>\n",
       "      <td>bar</td>\n",
       "      <td>True</td>\n",
       "    </tr>\n",
       "  </tbody>\n",
       "</table>\n",
       "</div>"
      ],
      "text/plain": [
       "        one       two     three four   five\n",
       "a  0.374851  1.575271 -2.633000  bar   True\n",
       "b -0.722451 -0.446845  0.933967  bar  False\n",
       "c -1.386522  1.575828  2.371845  bar  False\n",
       "d  1.422895 -1.145874  1.347855  bar   True"
      ]
     },
     "execution_count": 23,
     "metadata": {},
     "output_type": "execute_result"
    }
   ],
   "source": [
    "df['five'] = df['one'] > 0\n",
    "df"
   ]
  },
  {
   "cell_type": "code",
   "execution_count": 24,
   "metadata": {},
   "outputs": [
    {
     "data": {
      "text/html": [
       "<div>\n",
       "<style scoped>\n",
       "    .dataframe tbody tr th:only-of-type {\n",
       "        vertical-align: middle;\n",
       "    }\n",
       "\n",
       "    .dataframe tbody tr th {\n",
       "        vertical-align: top;\n",
       "    }\n",
       "\n",
       "    .dataframe thead th {\n",
       "        text-align: right;\n",
       "    }\n",
       "</style>\n",
       "<table border=\"1\" class=\"dataframe\">\n",
       "  <thead>\n",
       "    <tr style=\"text-align: right;\">\n",
       "      <th></th>\n",
       "      <th>one</th>\n",
       "      <th>two</th>\n",
       "      <th>three</th>\n",
       "      <th>four</th>\n",
       "      <th>five</th>\n",
       "    </tr>\n",
       "  </thead>\n",
       "  <tbody>\n",
       "    <tr>\n",
       "      <th>a</th>\n",
       "      <td>0.374851</td>\n",
       "      <td>1.575271</td>\n",
       "      <td>-2.633000</td>\n",
       "      <td>bar</td>\n",
       "      <td>True</td>\n",
       "    </tr>\n",
       "    <tr>\n",
       "      <th>b</th>\n",
       "      <td>-0.722451</td>\n",
       "      <td>-0.446845</td>\n",
       "      <td>0.933967</td>\n",
       "      <td>bar</td>\n",
       "      <td>False</td>\n",
       "    </tr>\n",
       "    <tr>\n",
       "      <th>c</th>\n",
       "      <td>-1.386522</td>\n",
       "      <td>1.575828</td>\n",
       "      <td>2.371845</td>\n",
       "      <td>bar</td>\n",
       "      <td>False</td>\n",
       "    </tr>\n",
       "    <tr>\n",
       "      <th>d</th>\n",
       "      <td>1.422895</td>\n",
       "      <td>-1.145874</td>\n",
       "      <td>1.347855</td>\n",
       "      <td>bar</td>\n",
       "      <td>True</td>\n",
       "    </tr>\n",
       "    <tr>\n",
       "      <th>e</th>\n",
       "      <td>NaN</td>\n",
       "      <td>NaN</td>\n",
       "      <td>NaN</td>\n",
       "      <td>NaN</td>\n",
       "      <td>NaN</td>\n",
       "    </tr>\n",
       "    <tr>\n",
       "      <th>f</th>\n",
       "      <td>NaN</td>\n",
       "      <td>NaN</td>\n",
       "      <td>NaN</td>\n",
       "      <td>NaN</td>\n",
       "      <td>NaN</td>\n",
       "    </tr>\n",
       "    <tr>\n",
       "      <th>g</th>\n",
       "      <td>NaN</td>\n",
       "      <td>NaN</td>\n",
       "      <td>NaN</td>\n",
       "      <td>NaN</td>\n",
       "      <td>NaN</td>\n",
       "    </tr>\n",
       "  </tbody>\n",
       "</table>\n",
       "</div>"
      ],
      "text/plain": [
       "        one       two     three four   five\n",
       "a  0.374851  1.575271 -2.633000  bar   True\n",
       "b -0.722451 -0.446845  0.933967  bar  False\n",
       "c -1.386522  1.575828  2.371845  bar  False\n",
       "d  1.422895 -1.145874  1.347855  bar   True\n",
       "e       NaN       NaN       NaN  NaN    NaN\n",
       "f       NaN       NaN       NaN  NaN    NaN\n",
       "g       NaN       NaN       NaN  NaN    NaN"
      ]
     },
     "execution_count": 24,
     "metadata": {},
     "output_type": "execute_result"
    }
   ],
   "source": [
    "df2 = df.reindex(['a', 'b', 'c', 'd', 'e', 'f', 'g'])\n",
    "df2"
   ]
  },
  {
   "cell_type": "markdown",
   "metadata": {},
   "source": [
    "**Alternate constructors**<br>\n",
    "**DataFrame.from_dict**<br>\n",
    "DataFrame.from_dict takes a dict of dicts or a dict of array-like sequences and returns a DataFrame.<br>\n",
    "It operates like the DataFrame constructor except for the orient parameter which is 'columns' by default,<br>\n",
    "but which can be set to 'index' in order to use the dict keys as row labels."
   ]
  },
  {
   "cell_type": "code",
   "execution_count": 25,
   "metadata": {},
   "outputs": [
    {
     "data": {
      "text/html": [
       "<div>\n",
       "<style scoped>\n",
       "    .dataframe tbody tr th:only-of-type {\n",
       "        vertical-align: middle;\n",
       "    }\n",
       "\n",
       "    .dataframe tbody tr th {\n",
       "        vertical-align: top;\n",
       "    }\n",
       "\n",
       "    .dataframe thead th {\n",
       "        text-align: right;\n",
       "    }\n",
       "</style>\n",
       "<table border=\"1\" class=\"dataframe\">\n",
       "  <thead>\n",
       "    <tr style=\"text-align: right;\">\n",
       "      <th></th>\n",
       "      <th>P</th>\n",
       "      <th>Q</th>\n",
       "    </tr>\n",
       "  </thead>\n",
       "  <tbody>\n",
       "    <tr>\n",
       "      <th>0</th>\n",
       "      <td>2</td>\n",
       "      <td>5</td>\n",
       "    </tr>\n",
       "    <tr>\n",
       "      <th>1</th>\n",
       "      <td>3</td>\n",
       "      <td>6</td>\n",
       "    </tr>\n",
       "    <tr>\n",
       "      <th>2</th>\n",
       "      <td>4</td>\n",
       "      <td>7</td>\n",
       "    </tr>\n",
       "  </tbody>\n",
       "</table>\n",
       "</div>"
      ],
      "text/plain": [
       "   P  Q\n",
       "0  2  5\n",
       "1  3  6\n",
       "2  4  7"
      ]
     },
     "execution_count": 25,
     "metadata": {},
     "output_type": "execute_result"
    }
   ],
   "source": [
    "pd.DataFrame.from_dict(dict([('P', [2, 3, 4]), ('Q', [5, 6, 7])]))"
   ]
  },
  {
   "cell_type": "markdown",
   "metadata": {},
   "source": [
    "If you pass orient='index', the keys will be the row labels. In this case, you can also pass the desired<br>\n",
    "column names:"
   ]
  },
  {
   "cell_type": "code",
   "execution_count": 26,
   "metadata": {},
   "outputs": [
    {
     "data": {
      "text/html": [
       "<div>\n",
       "<style scoped>\n",
       "    .dataframe tbody tr th:only-of-type {\n",
       "        vertical-align: middle;\n",
       "    }\n",
       "\n",
       "    .dataframe tbody tr th {\n",
       "        vertical-align: top;\n",
       "    }\n",
       "\n",
       "    .dataframe thead th {\n",
       "        text-align: right;\n",
       "    }\n",
       "</style>\n",
       "<table border=\"1\" class=\"dataframe\">\n",
       "  <thead>\n",
       "    <tr style=\"text-align: right;\">\n",
       "      <th></th>\n",
       "      <th>one</th>\n",
       "      <th>two</th>\n",
       "      <th>three</th>\n",
       "    </tr>\n",
       "  </thead>\n",
       "  <tbody>\n",
       "    <tr>\n",
       "      <th>P</th>\n",
       "      <td>2</td>\n",
       "      <td>3</td>\n",
       "      <td>4</td>\n",
       "    </tr>\n",
       "    <tr>\n",
       "      <th>Q</th>\n",
       "      <td>5</td>\n",
       "      <td>6</td>\n",
       "      <td>7</td>\n",
       "    </tr>\n",
       "  </tbody>\n",
       "</table>\n",
       "</div>"
      ],
      "text/plain": [
       "   one  two  three\n",
       "P    2    3      4\n",
       "Q    5    6      7"
      ]
     },
     "execution_count": 26,
     "metadata": {},
     "output_type": "execute_result"
    }
   ],
   "source": [
    "pd.DataFrame.from_dict(dict([('P', [2, 3, 4]), ('Q', [5, 6, 7])]),\n",
    "                       orient='index', columns=['one', 'two', 'three'])"
   ]
  },
  {
   "cell_type": "markdown",
   "metadata": {},
   "source": [
    "**DataFrame.from_records**<br>\n",
    "DataFrame.from_records takes a list of tuples or an ndarray with structured dtype. "
   ]
  },
  {
   "cell_type": "code",
   "execution_count": 27,
   "metadata": {},
   "outputs": [
    {
     "data": {
      "text/plain": [
       "array([(2, 3., b'Best'), (3, 4., b'Friend')],\n",
       "      dtype=[('P', '<i4'), ('Q', '<f4'), ('R', 'S10')])"
      ]
     },
     "execution_count": 27,
     "metadata": {},
     "output_type": "execute_result"
    }
   ],
   "source": [
    "data"
   ]
  },
  {
   "cell_type": "code",
   "execution_count": 28,
   "metadata": {},
   "outputs": [
    {
     "data": {
      "text/html": [
       "<div>\n",
       "<style scoped>\n",
       "    .dataframe tbody tr th:only-of-type {\n",
       "        vertical-align: middle;\n",
       "    }\n",
       "\n",
       "    .dataframe tbody tr th {\n",
       "        vertical-align: top;\n",
       "    }\n",
       "\n",
       "    .dataframe thead th {\n",
       "        text-align: right;\n",
       "    }\n",
       "</style>\n",
       "<table border=\"1\" class=\"dataframe\">\n",
       "  <thead>\n",
       "    <tr style=\"text-align: right;\">\n",
       "      <th></th>\n",
       "      <th>P</th>\n",
       "      <th>Q</th>\n",
       "    </tr>\n",
       "    <tr>\n",
       "      <th>R</th>\n",
       "      <th></th>\n",
       "      <th></th>\n",
       "    </tr>\n",
       "  </thead>\n",
       "  <tbody>\n",
       "    <tr>\n",
       "      <th>b'Best'</th>\n",
       "      <td>2</td>\n",
       "      <td>3.0</td>\n",
       "    </tr>\n",
       "    <tr>\n",
       "      <th>b'Friend'</th>\n",
       "      <td>3</td>\n",
       "      <td>4.0</td>\n",
       "    </tr>\n",
       "  </tbody>\n",
       "</table>\n",
       "</div>"
      ],
      "text/plain": [
       "           P    Q\n",
       "R                \n",
       "b'Best'    2  3.0\n",
       "b'Friend'  3  4.0"
      ]
     },
     "execution_count": 28,
     "metadata": {},
     "output_type": "execute_result"
    }
   ],
   "source": [
    "pd.DataFrame.from_records(data, index='R')"
   ]
  },
  {
   "cell_type": "markdown",
   "metadata": {},
   "source": [
    "**Column selection, addition, deletion**"
   ]
  },
  {
   "cell_type": "code",
   "execution_count": 29,
   "metadata": {},
   "outputs": [
    {
     "data": {
      "text/plain": [
       "a    0.374851\n",
       "b   -0.722451\n",
       "c   -1.386522\n",
       "d    1.422895\n",
       "Name: one, dtype: float64"
      ]
     },
     "execution_count": 29,
     "metadata": {},
     "output_type": "execute_result"
    }
   ],
   "source": [
    "df['one']"
   ]
  },
  {
   "cell_type": "code",
   "execution_count": 30,
   "metadata": {},
   "outputs": [],
   "source": [
    "df['three'] = df['one'] * df['two']"
   ]
  },
  {
   "cell_type": "code",
   "execution_count": 31,
   "metadata": {},
   "outputs": [
    {
     "data": {
      "text/html": [
       "<div>\n",
       "<style scoped>\n",
       "    .dataframe tbody tr th:only-of-type {\n",
       "        vertical-align: middle;\n",
       "    }\n",
       "\n",
       "    .dataframe tbody tr th {\n",
       "        vertical-align: top;\n",
       "    }\n",
       "\n",
       "    .dataframe thead th {\n",
       "        text-align: right;\n",
       "    }\n",
       "</style>\n",
       "<table border=\"1\" class=\"dataframe\">\n",
       "  <thead>\n",
       "    <tr style=\"text-align: right;\">\n",
       "      <th></th>\n",
       "      <th>one</th>\n",
       "      <th>two</th>\n",
       "      <th>three</th>\n",
       "      <th>four</th>\n",
       "      <th>five</th>\n",
       "      <th>flag</th>\n",
       "    </tr>\n",
       "  </thead>\n",
       "  <tbody>\n",
       "    <tr>\n",
       "      <th>a</th>\n",
       "      <td>0.374851</td>\n",
       "      <td>1.575271</td>\n",
       "      <td>0.590491</td>\n",
       "      <td>bar</td>\n",
       "      <td>True</td>\n",
       "      <td>False</td>\n",
       "    </tr>\n",
       "    <tr>\n",
       "      <th>b</th>\n",
       "      <td>-0.722451</td>\n",
       "      <td>-0.446845</td>\n",
       "      <td>0.322824</td>\n",
       "      <td>bar</td>\n",
       "      <td>False</td>\n",
       "      <td>False</td>\n",
       "    </tr>\n",
       "    <tr>\n",
       "      <th>c</th>\n",
       "      <td>-1.386522</td>\n",
       "      <td>1.575828</td>\n",
       "      <td>-2.184920</td>\n",
       "      <td>bar</td>\n",
       "      <td>False</td>\n",
       "      <td>False</td>\n",
       "    </tr>\n",
       "    <tr>\n",
       "      <th>d</th>\n",
       "      <td>1.422895</td>\n",
       "      <td>-1.145874</td>\n",
       "      <td>-1.630458</td>\n",
       "      <td>bar</td>\n",
       "      <td>True</td>\n",
       "      <td>False</td>\n",
       "    </tr>\n",
       "  </tbody>\n",
       "</table>\n",
       "</div>"
      ],
      "text/plain": [
       "        one       two     three four   five   flag\n",
       "a  0.374851  1.575271  0.590491  bar   True  False\n",
       "b -0.722451 -0.446845  0.322824  bar  False  False\n",
       "c -1.386522  1.575828 -2.184920  bar  False  False\n",
       "d  1.422895 -1.145874 -1.630458  bar   True  False"
      ]
     },
     "execution_count": 31,
     "metadata": {},
     "output_type": "execute_result"
    }
   ],
   "source": [
    "df['flag'] = df['one'] > 2\n",
    "df"
   ]
  },
  {
   "cell_type": "markdown",
   "metadata": {},
   "source": [
    "Columns can be deleted or popped like with a dict:"
   ]
  },
  {
   "cell_type": "code",
   "execution_count": 32,
   "metadata": {},
   "outputs": [],
   "source": [
    "del df['two']"
   ]
  },
  {
   "cell_type": "code",
   "execution_count": 33,
   "metadata": {},
   "outputs": [],
   "source": [
    "three = df.pop('three')"
   ]
  },
  {
   "cell_type": "code",
   "execution_count": 34,
   "metadata": {},
   "outputs": [
    {
     "data": {
      "text/html": [
       "<div>\n",
       "<style scoped>\n",
       "    .dataframe tbody tr th:only-of-type {\n",
       "        vertical-align: middle;\n",
       "    }\n",
       "\n",
       "    .dataframe tbody tr th {\n",
       "        vertical-align: top;\n",
       "    }\n",
       "\n",
       "    .dataframe thead th {\n",
       "        text-align: right;\n",
       "    }\n",
       "</style>\n",
       "<table border=\"1\" class=\"dataframe\">\n",
       "  <thead>\n",
       "    <tr style=\"text-align: right;\">\n",
       "      <th></th>\n",
       "      <th>one</th>\n",
       "      <th>four</th>\n",
       "      <th>five</th>\n",
       "      <th>flag</th>\n",
       "    </tr>\n",
       "  </thead>\n",
       "  <tbody>\n",
       "    <tr>\n",
       "      <th>a</th>\n",
       "      <td>0.374851</td>\n",
       "      <td>bar</td>\n",
       "      <td>True</td>\n",
       "      <td>False</td>\n",
       "    </tr>\n",
       "    <tr>\n",
       "      <th>b</th>\n",
       "      <td>-0.722451</td>\n",
       "      <td>bar</td>\n",
       "      <td>False</td>\n",
       "      <td>False</td>\n",
       "    </tr>\n",
       "    <tr>\n",
       "      <th>c</th>\n",
       "      <td>-1.386522</td>\n",
       "      <td>bar</td>\n",
       "      <td>False</td>\n",
       "      <td>False</td>\n",
       "    </tr>\n",
       "    <tr>\n",
       "      <th>d</th>\n",
       "      <td>1.422895</td>\n",
       "      <td>bar</td>\n",
       "      <td>True</td>\n",
       "      <td>False</td>\n",
       "    </tr>\n",
       "  </tbody>\n",
       "</table>\n",
       "</div>"
      ],
      "text/plain": [
       "        one four   five   flag\n",
       "a  0.374851  bar   True  False\n",
       "b -0.722451  bar  False  False\n",
       "c -1.386522  bar  False  False\n",
       "d  1.422895  bar   True  False"
      ]
     },
     "execution_count": 34,
     "metadata": {},
     "output_type": "execute_result"
    }
   ],
   "source": [
    "df"
   ]
  },
  {
   "cell_type": "markdown",
   "metadata": {},
   "source": [
    "When inserting a scalar value, it will naturally be propagated to fill the column:"
   ]
  },
  {
   "cell_type": "code",
   "execution_count": 35,
   "metadata": {},
   "outputs": [],
   "source": [
    "df['foo'] = 'bar'"
   ]
  },
  {
   "cell_type": "code",
   "execution_count": 36,
   "metadata": {},
   "outputs": [
    {
     "data": {
      "text/html": [
       "<div>\n",
       "<style scoped>\n",
       "    .dataframe tbody tr th:only-of-type {\n",
       "        vertical-align: middle;\n",
       "    }\n",
       "\n",
       "    .dataframe tbody tr th {\n",
       "        vertical-align: top;\n",
       "    }\n",
       "\n",
       "    .dataframe thead th {\n",
       "        text-align: right;\n",
       "    }\n",
       "</style>\n",
       "<table border=\"1\" class=\"dataframe\">\n",
       "  <thead>\n",
       "    <tr style=\"text-align: right;\">\n",
       "      <th></th>\n",
       "      <th>one</th>\n",
       "      <th>four</th>\n",
       "      <th>five</th>\n",
       "      <th>flag</th>\n",
       "      <th>foo</th>\n",
       "    </tr>\n",
       "  </thead>\n",
       "  <tbody>\n",
       "    <tr>\n",
       "      <th>a</th>\n",
       "      <td>0.374851</td>\n",
       "      <td>bar</td>\n",
       "      <td>True</td>\n",
       "      <td>False</td>\n",
       "      <td>bar</td>\n",
       "    </tr>\n",
       "    <tr>\n",
       "      <th>b</th>\n",
       "      <td>-0.722451</td>\n",
       "      <td>bar</td>\n",
       "      <td>False</td>\n",
       "      <td>False</td>\n",
       "      <td>bar</td>\n",
       "    </tr>\n",
       "    <tr>\n",
       "      <th>c</th>\n",
       "      <td>-1.386522</td>\n",
       "      <td>bar</td>\n",
       "      <td>False</td>\n",
       "      <td>False</td>\n",
       "      <td>bar</td>\n",
       "    </tr>\n",
       "    <tr>\n",
       "      <th>d</th>\n",
       "      <td>1.422895</td>\n",
       "      <td>bar</td>\n",
       "      <td>True</td>\n",
       "      <td>False</td>\n",
       "      <td>bar</td>\n",
       "    </tr>\n",
       "  </tbody>\n",
       "</table>\n",
       "</div>"
      ],
      "text/plain": [
       "        one four   five   flag  foo\n",
       "a  0.374851  bar   True  False  bar\n",
       "b -0.722451  bar  False  False  bar\n",
       "c -1.386522  bar  False  False  bar\n",
       "d  1.422895  bar   True  False  bar"
      ]
     },
     "execution_count": 36,
     "metadata": {},
     "output_type": "execute_result"
    }
   ],
   "source": [
    "df"
   ]
  },
  {
   "cell_type": "markdown",
   "metadata": {},
   "source": [
    "When inserting a Series that does not have the same index as the DataFrame, it will be conformed to the<br>\n",
    "DataFrame’s index:"
   ]
  },
  {
   "cell_type": "code",
   "execution_count": 37,
   "metadata": {},
   "outputs": [],
   "source": [
    "df['one_trunc'] = df['one'][:2]"
   ]
  },
  {
   "cell_type": "code",
   "execution_count": 38,
   "metadata": {},
   "outputs": [
    {
     "data": {
      "text/html": [
       "<div>\n",
       "<style scoped>\n",
       "    .dataframe tbody tr th:only-of-type {\n",
       "        vertical-align: middle;\n",
       "    }\n",
       "\n",
       "    .dataframe tbody tr th {\n",
       "        vertical-align: top;\n",
       "    }\n",
       "\n",
       "    .dataframe thead th {\n",
       "        text-align: right;\n",
       "    }\n",
       "</style>\n",
       "<table border=\"1\" class=\"dataframe\">\n",
       "  <thead>\n",
       "    <tr style=\"text-align: right;\">\n",
       "      <th></th>\n",
       "      <th>one</th>\n",
       "      <th>four</th>\n",
       "      <th>five</th>\n",
       "      <th>flag</th>\n",
       "      <th>foo</th>\n",
       "      <th>one_trunc</th>\n",
       "    </tr>\n",
       "  </thead>\n",
       "  <tbody>\n",
       "    <tr>\n",
       "      <th>a</th>\n",
       "      <td>0.374851</td>\n",
       "      <td>bar</td>\n",
       "      <td>True</td>\n",
       "      <td>False</td>\n",
       "      <td>bar</td>\n",
       "      <td>0.374851</td>\n",
       "    </tr>\n",
       "    <tr>\n",
       "      <th>b</th>\n",
       "      <td>-0.722451</td>\n",
       "      <td>bar</td>\n",
       "      <td>False</td>\n",
       "      <td>False</td>\n",
       "      <td>bar</td>\n",
       "      <td>-0.722451</td>\n",
       "    </tr>\n",
       "    <tr>\n",
       "      <th>c</th>\n",
       "      <td>-1.386522</td>\n",
       "      <td>bar</td>\n",
       "      <td>False</td>\n",
       "      <td>False</td>\n",
       "      <td>bar</td>\n",
       "      <td>NaN</td>\n",
       "    </tr>\n",
       "    <tr>\n",
       "      <th>d</th>\n",
       "      <td>1.422895</td>\n",
       "      <td>bar</td>\n",
       "      <td>True</td>\n",
       "      <td>False</td>\n",
       "      <td>bar</td>\n",
       "      <td>NaN</td>\n",
       "    </tr>\n",
       "  </tbody>\n",
       "</table>\n",
       "</div>"
      ],
      "text/plain": [
       "        one four   five   flag  foo  one_trunc\n",
       "a  0.374851  bar   True  False  bar   0.374851\n",
       "b -0.722451  bar  False  False  bar  -0.722451\n",
       "c -1.386522  bar  False  False  bar        NaN\n",
       "d  1.422895  bar   True  False  bar        NaN"
      ]
     },
     "execution_count": 38,
     "metadata": {},
     "output_type": "execute_result"
    }
   ],
   "source": [
    "df"
   ]
  },
  {
   "cell_type": "markdown",
   "metadata": {},
   "source": [
    "You can insert raw ndarrays but their length must match the length of the DataFrame’s index."
   ]
  },
  {
   "cell_type": "markdown",
   "metadata": {},
   "source": [
    "By default, columns get inserted at the end. The insert function is available to insert at a particular<br>\n",
    "location in the columns:"
   ]
  },
  {
   "cell_type": "code",
   "execution_count": 39,
   "metadata": {},
   "outputs": [],
   "source": [
    "df.insert(1, 'bar', df['one'])"
   ]
  },
  {
   "cell_type": "code",
   "execution_count": 40,
   "metadata": {},
   "outputs": [
    {
     "data": {
      "text/html": [
       "<div>\n",
       "<style scoped>\n",
       "    .dataframe tbody tr th:only-of-type {\n",
       "        vertical-align: middle;\n",
       "    }\n",
       "\n",
       "    .dataframe tbody tr th {\n",
       "        vertical-align: top;\n",
       "    }\n",
       "\n",
       "    .dataframe thead th {\n",
       "        text-align: right;\n",
       "    }\n",
       "</style>\n",
       "<table border=\"1\" class=\"dataframe\">\n",
       "  <thead>\n",
       "    <tr style=\"text-align: right;\">\n",
       "      <th></th>\n",
       "      <th>one</th>\n",
       "      <th>bar</th>\n",
       "      <th>four</th>\n",
       "      <th>five</th>\n",
       "      <th>flag</th>\n",
       "      <th>foo</th>\n",
       "      <th>one_trunc</th>\n",
       "    </tr>\n",
       "  </thead>\n",
       "  <tbody>\n",
       "    <tr>\n",
       "      <th>a</th>\n",
       "      <td>0.374851</td>\n",
       "      <td>0.374851</td>\n",
       "      <td>bar</td>\n",
       "      <td>True</td>\n",
       "      <td>False</td>\n",
       "      <td>bar</td>\n",
       "      <td>0.374851</td>\n",
       "    </tr>\n",
       "    <tr>\n",
       "      <th>b</th>\n",
       "      <td>-0.722451</td>\n",
       "      <td>-0.722451</td>\n",
       "      <td>bar</td>\n",
       "      <td>False</td>\n",
       "      <td>False</td>\n",
       "      <td>bar</td>\n",
       "      <td>-0.722451</td>\n",
       "    </tr>\n",
       "    <tr>\n",
       "      <th>c</th>\n",
       "      <td>-1.386522</td>\n",
       "      <td>-1.386522</td>\n",
       "      <td>bar</td>\n",
       "      <td>False</td>\n",
       "      <td>False</td>\n",
       "      <td>bar</td>\n",
       "      <td>NaN</td>\n",
       "    </tr>\n",
       "    <tr>\n",
       "      <th>d</th>\n",
       "      <td>1.422895</td>\n",
       "      <td>1.422895</td>\n",
       "      <td>bar</td>\n",
       "      <td>True</td>\n",
       "      <td>False</td>\n",
       "      <td>bar</td>\n",
       "      <td>NaN</td>\n",
       "    </tr>\n",
       "  </tbody>\n",
       "</table>\n",
       "</div>"
      ],
      "text/plain": [
       "        one       bar four   five   flag  foo  one_trunc\n",
       "a  0.374851  0.374851  bar   True  False  bar   0.374851\n",
       "b -0.722451 -0.722451  bar  False  False  bar  -0.722451\n",
       "c -1.386522 -1.386522  bar  False  False  bar        NaN\n",
       "d  1.422895  1.422895  bar   True  False  bar        NaN"
      ]
     },
     "execution_count": 40,
     "metadata": {},
     "output_type": "execute_result"
    }
   ],
   "source": [
    "df"
   ]
  },
  {
   "cell_type": "markdown",
   "metadata": {},
   "source": [
    "**Assigning new columns in method chains**"
   ]
  },
  {
   "cell_type": "code",
   "execution_count": 41,
   "metadata": {},
   "outputs": [],
   "source": [
    "iris = pd.read_csv('https://gist.githubusercontent.com/curran/a08a1080b88344b0c8a7/raw/d546eaee765268bf2f487608c537c05e22e4b221/iris.csv')"
   ]
  },
  {
   "cell_type": "code",
   "execution_count": 42,
   "metadata": {},
   "outputs": [
    {
     "data": {
      "text/html": [
       "<div>\n",
       "<style scoped>\n",
       "    .dataframe tbody tr th:only-of-type {\n",
       "        vertical-align: middle;\n",
       "    }\n",
       "\n",
       "    .dataframe tbody tr th {\n",
       "        vertical-align: top;\n",
       "    }\n",
       "\n",
       "    .dataframe thead th {\n",
       "        text-align: right;\n",
       "    }\n",
       "</style>\n",
       "<table border=\"1\" class=\"dataframe\">\n",
       "  <thead>\n",
       "    <tr style=\"text-align: right;\">\n",
       "      <th></th>\n",
       "      <th>sepal_length</th>\n",
       "      <th>sepal_width</th>\n",
       "      <th>petal_length</th>\n",
       "      <th>petal_width</th>\n",
       "      <th>species</th>\n",
       "    </tr>\n",
       "  </thead>\n",
       "  <tbody>\n",
       "    <tr>\n",
       "      <th>0</th>\n",
       "      <td>5.1</td>\n",
       "      <td>3.5</td>\n",
       "      <td>1.4</td>\n",
       "      <td>0.2</td>\n",
       "      <td>setosa</td>\n",
       "    </tr>\n",
       "    <tr>\n",
       "      <th>1</th>\n",
       "      <td>4.9</td>\n",
       "      <td>3.0</td>\n",
       "      <td>1.4</td>\n",
       "      <td>0.2</td>\n",
       "      <td>setosa</td>\n",
       "    </tr>\n",
       "    <tr>\n",
       "      <th>2</th>\n",
       "      <td>4.7</td>\n",
       "      <td>3.2</td>\n",
       "      <td>1.3</td>\n",
       "      <td>0.2</td>\n",
       "      <td>setosa</td>\n",
       "    </tr>\n",
       "    <tr>\n",
       "      <th>3</th>\n",
       "      <td>4.6</td>\n",
       "      <td>3.1</td>\n",
       "      <td>1.5</td>\n",
       "      <td>0.2</td>\n",
       "      <td>setosa</td>\n",
       "    </tr>\n",
       "    <tr>\n",
       "      <th>4</th>\n",
       "      <td>5.0</td>\n",
       "      <td>3.6</td>\n",
       "      <td>1.4</td>\n",
       "      <td>0.2</td>\n",
       "      <td>setosa</td>\n",
       "    </tr>\n",
       "  </tbody>\n",
       "</table>\n",
       "</div>"
      ],
      "text/plain": [
       "   sepal_length  sepal_width  petal_length  petal_width species\n",
       "0           5.1          3.5           1.4          0.2  setosa\n",
       "1           4.9          3.0           1.4          0.2  setosa\n",
       "2           4.7          3.2           1.3          0.2  setosa\n",
       "3           4.6          3.1           1.5          0.2  setosa\n",
       "4           5.0          3.6           1.4          0.2  setosa"
      ]
     },
     "execution_count": 42,
     "metadata": {},
     "output_type": "execute_result"
    }
   ],
   "source": [
    "iris.head()"
   ]
  },
  {
   "cell_type": "code",
   "execution_count": 43,
   "metadata": {},
   "outputs": [
    {
     "data": {
      "text/html": [
       "<div>\n",
       "<style scoped>\n",
       "    .dataframe tbody tr th:only-of-type {\n",
       "        vertical-align: middle;\n",
       "    }\n",
       "\n",
       "    .dataframe tbody tr th {\n",
       "        vertical-align: top;\n",
       "    }\n",
       "\n",
       "    .dataframe thead th {\n",
       "        text-align: right;\n",
       "    }\n",
       "</style>\n",
       "<table border=\"1\" class=\"dataframe\">\n",
       "  <thead>\n",
       "    <tr style=\"text-align: right;\">\n",
       "      <th></th>\n",
       "      <th>sepal_length</th>\n",
       "      <th>sepal_width</th>\n",
       "      <th>petal_length</th>\n",
       "      <th>petal_width</th>\n",
       "      <th>species</th>\n",
       "      <th>sepal_ratio</th>\n",
       "    </tr>\n",
       "  </thead>\n",
       "  <tbody>\n",
       "    <tr>\n",
       "      <th>0</th>\n",
       "      <td>5.1</td>\n",
       "      <td>3.5</td>\n",
       "      <td>1.4</td>\n",
       "      <td>0.2</td>\n",
       "      <td>setosa</td>\n",
       "      <td>0.686275</td>\n",
       "    </tr>\n",
       "    <tr>\n",
       "      <th>1</th>\n",
       "      <td>4.9</td>\n",
       "      <td>3.0</td>\n",
       "      <td>1.4</td>\n",
       "      <td>0.2</td>\n",
       "      <td>setosa</td>\n",
       "      <td>0.612245</td>\n",
       "    </tr>\n",
       "    <tr>\n",
       "      <th>2</th>\n",
       "      <td>4.7</td>\n",
       "      <td>3.2</td>\n",
       "      <td>1.3</td>\n",
       "      <td>0.2</td>\n",
       "      <td>setosa</td>\n",
       "      <td>0.680851</td>\n",
       "    </tr>\n",
       "    <tr>\n",
       "      <th>3</th>\n",
       "      <td>4.6</td>\n",
       "      <td>3.1</td>\n",
       "      <td>1.5</td>\n",
       "      <td>0.2</td>\n",
       "      <td>setosa</td>\n",
       "      <td>0.673913</td>\n",
       "    </tr>\n",
       "    <tr>\n",
       "      <th>4</th>\n",
       "      <td>5.0</td>\n",
       "      <td>3.6</td>\n",
       "      <td>1.4</td>\n",
       "      <td>0.2</td>\n",
       "      <td>setosa</td>\n",
       "      <td>0.720000</td>\n",
       "    </tr>\n",
       "  </tbody>\n",
       "</table>\n",
       "</div>"
      ],
      "text/plain": [
       "   sepal_length  sepal_width  petal_length  petal_width species  sepal_ratio\n",
       "0           5.1          3.5           1.4          0.2  setosa     0.686275\n",
       "1           4.9          3.0           1.4          0.2  setosa     0.612245\n",
       "2           4.7          3.2           1.3          0.2  setosa     0.680851\n",
       "3           4.6          3.1           1.5          0.2  setosa     0.673913\n",
       "4           5.0          3.6           1.4          0.2  setosa     0.720000"
      ]
     },
     "execution_count": 43,
     "metadata": {},
     "output_type": "execute_result"
    }
   ],
   "source": [
    "(iris.assign(sepal_ratio=iris['sepal_width'] / iris['sepal_length'])\n",
    "      .head())"
   ]
  },
  {
   "cell_type": "markdown",
   "metadata": {},
   "source": [
    "In the example above, we inserted a precomputed value. We can also pass in a function of one argument to be<br>\n",
    "evaluated on the DataFrame being assigned to."
   ]
  },
  {
   "cell_type": "code",
   "execution_count": 44,
   "metadata": {},
   "outputs": [
    {
     "data": {
      "text/html": [
       "<div>\n",
       "<style scoped>\n",
       "    .dataframe tbody tr th:only-of-type {\n",
       "        vertical-align: middle;\n",
       "    }\n",
       "\n",
       "    .dataframe tbody tr th {\n",
       "        vertical-align: top;\n",
       "    }\n",
       "\n",
       "    .dataframe thead th {\n",
       "        text-align: right;\n",
       "    }\n",
       "</style>\n",
       "<table border=\"1\" class=\"dataframe\">\n",
       "  <thead>\n",
       "    <tr style=\"text-align: right;\">\n",
       "      <th></th>\n",
       "      <th>sepal_length</th>\n",
       "      <th>sepal_width</th>\n",
       "      <th>petal_length</th>\n",
       "      <th>petal_width</th>\n",
       "      <th>species</th>\n",
       "      <th>sepal_ratio</th>\n",
       "    </tr>\n",
       "  </thead>\n",
       "  <tbody>\n",
       "    <tr>\n",
       "      <th>0</th>\n",
       "      <td>5.1</td>\n",
       "      <td>3.5</td>\n",
       "      <td>1.4</td>\n",
       "      <td>0.2</td>\n",
       "      <td>setosa</td>\n",
       "      <td>0.686275</td>\n",
       "    </tr>\n",
       "    <tr>\n",
       "      <th>1</th>\n",
       "      <td>4.9</td>\n",
       "      <td>3.0</td>\n",
       "      <td>1.4</td>\n",
       "      <td>0.2</td>\n",
       "      <td>setosa</td>\n",
       "      <td>0.612245</td>\n",
       "    </tr>\n",
       "    <tr>\n",
       "      <th>2</th>\n",
       "      <td>4.7</td>\n",
       "      <td>3.2</td>\n",
       "      <td>1.3</td>\n",
       "      <td>0.2</td>\n",
       "      <td>setosa</td>\n",
       "      <td>0.680851</td>\n",
       "    </tr>\n",
       "    <tr>\n",
       "      <th>3</th>\n",
       "      <td>4.6</td>\n",
       "      <td>3.1</td>\n",
       "      <td>1.5</td>\n",
       "      <td>0.2</td>\n",
       "      <td>setosa</td>\n",
       "      <td>0.673913</td>\n",
       "    </tr>\n",
       "    <tr>\n",
       "      <th>4</th>\n",
       "      <td>5.0</td>\n",
       "      <td>3.6</td>\n",
       "      <td>1.4</td>\n",
       "      <td>0.2</td>\n",
       "      <td>setosa</td>\n",
       "      <td>0.720000</td>\n",
       "    </tr>\n",
       "  </tbody>\n",
       "</table>\n",
       "</div>"
      ],
      "text/plain": [
       "   sepal_length  sepal_width  petal_length  petal_width species  sepal_ratio\n",
       "0           5.1          3.5           1.4          0.2  setosa     0.686275\n",
       "1           4.9          3.0           1.4          0.2  setosa     0.612245\n",
       "2           4.7          3.2           1.3          0.2  setosa     0.680851\n",
       "3           4.6          3.1           1.5          0.2  setosa     0.673913\n",
       "4           5.0          3.6           1.4          0.2  setosa     0.720000"
      ]
     },
     "execution_count": 44,
     "metadata": {},
     "output_type": "execute_result"
    }
   ],
   "source": [
    "iris.assign(sepal_ratio=lambda x: (x['sepal_width'] / x['sepal_length'])).head()"
   ]
  },
  {
   "cell_type": "markdown",
   "metadata": {},
   "source": [
    "**assign always returns a copy of the data, leaving the original DataFrame untouched.**"
   ]
  },
  {
   "cell_type": "code",
   "execution_count": 45,
   "metadata": {},
   "outputs": [
    {
     "data": {
      "text/plain": [
       "<matplotlib.axes._subplots.AxesSubplot at 0x92360f0>"
      ]
     },
     "execution_count": 45,
     "metadata": {},
     "output_type": "execute_result"
    }
   ],
   "source": [
    "(iris.query('sepal_length > 4')\n",
    "      .assign(sepal_ratio=lambda x: x.sepal_width / x.sepal_length,\n",
    "            petal_ratio=lambda x: x.petal_width / x.petal_length)\n",
    "      .plot(kind='scatter', x='sepal_ratio', y='petal_ratio'))"
   ]
  },
  {
   "cell_type": "markdown",
   "metadata": {},
   "source": [
    "**Indexing / selection**<br>\n",
    "The basics of indexing are as follows:"
   ]
  },
  {
   "cell_type": "markdown",
   "metadata": {},
   "source": [
    " Operation                                  Syntax                                 Result\n",
    "Select column                               df[col]                                Select column    \n",
    "Select row by label                         df.loc[label]                          Series\n",
    "Select row by integer location              df.iloc[loc]                           Series\n",
    "Slice rows                                  df[5:10]                               DataFrame\n",
    "Select rows by boolean vector               df[bool_vec]                           DataFrame"
   ]
  },
  {
   "cell_type": "markdown",
   "metadata": {},
   "source": [
    "Row selection, for example, returns a Series whose index is the columns of the DataFrame:"
   ]
  },
  {
   "cell_type": "code",
   "execution_count": 47,
   "metadata": {},
   "outputs": [],
   "source": [
    "import numpy as np\n",
    "import pandas as pd"
   ]
  },
  {
   "cell_type": "code",
   "execution_count": 48,
   "metadata": {},
   "outputs": [],
   "source": [
    "d = {'one': pd.Series([2., 3., 4.], index=['p', 'q', 'r']),\n",
    "     'two': pd.Series([2., 3., 4., 5.], index=['p', 'q', 'r', 's'])}"
   ]
  },
  {
   "cell_type": "code",
   "execution_count": 49,
   "metadata": {},
   "outputs": [],
   "source": [
    "df = pd.DataFrame(d)"
   ]
  },
  {
   "cell_type": "code",
   "execution_count": 50,
   "metadata": {},
   "outputs": [
    {
     "data": {
      "text/plain": [
       "one    3.0\n",
       "two    3.0\n",
       "Name: q, dtype: float64"
      ]
     },
     "execution_count": 50,
     "metadata": {},
     "output_type": "execute_result"
    }
   ],
   "source": [
    "df.loc['q']"
   ]
  },
  {
   "cell_type": "markdown",
   "metadata": {},
   "source": [
    "For a more exhaustive treatment of sophisticated label-based indexing and slicing, see the section<br>\n",
    "on indexing. We will address the fundamentals of reindexing / conforming to new sets of labels in the<br>\n",
    "section on reindexing."
   ]
  },
  {
   "cell_type": "markdown",
   "metadata": {},
   "source": [
    "**Data alignment and arithmetic**<br>\n",
    "Data alignment between DataFrame objects automatically align on both the columns and the index<br>\n",
    "(row labels). Again, the resulting object will have the union of the column and row labels."
   ]
  },
  {
   "cell_type": "code",
   "execution_count": 51,
   "metadata": {},
   "outputs": [],
   "source": [
    "import numpy as np\n",
    "import pandas as pd"
   ]
  },
  {
   "cell_type": "code",
   "execution_count": 52,
   "metadata": {},
   "outputs": [],
   "source": [
    "df = pd.DataFrame(np.random.randn(8, 4), columns=['P', 'Q', 'R', 'S'])"
   ]
  },
  {
   "cell_type": "code",
   "execution_count": 53,
   "metadata": {},
   "outputs": [],
   "source": [
    "df2 = pd.DataFrame(np.random.randn(9, 3), columns=['P', 'Q', 'R'])"
   ]
  },
  {
   "cell_type": "code",
   "execution_count": 54,
   "metadata": {},
   "outputs": [
    {
     "data": {
      "text/html": [
       "<div>\n",
       "<style scoped>\n",
       "    .dataframe tbody tr th:only-of-type {\n",
       "        vertical-align: middle;\n",
       "    }\n",
       "\n",
       "    .dataframe tbody tr th {\n",
       "        vertical-align: top;\n",
       "    }\n",
       "\n",
       "    .dataframe thead th {\n",
       "        text-align: right;\n",
       "    }\n",
       "</style>\n",
       "<table border=\"1\" class=\"dataframe\">\n",
       "  <thead>\n",
       "    <tr style=\"text-align: right;\">\n",
       "      <th></th>\n",
       "      <th>P</th>\n",
       "      <th>Q</th>\n",
       "      <th>R</th>\n",
       "      <th>S</th>\n",
       "    </tr>\n",
       "  </thead>\n",
       "  <tbody>\n",
       "    <tr>\n",
       "      <th>0</th>\n",
       "      <td>-1.359783</td>\n",
       "      <td>-0.362051</td>\n",
       "      <td>2.138860</td>\n",
       "      <td>NaN</td>\n",
       "    </tr>\n",
       "    <tr>\n",
       "      <th>1</th>\n",
       "      <td>1.336226</td>\n",
       "      <td>-0.040574</td>\n",
       "      <td>-1.115697</td>\n",
       "      <td>NaN</td>\n",
       "    </tr>\n",
       "    <tr>\n",
       "      <th>2</th>\n",
       "      <td>0.607396</td>\n",
       "      <td>0.102404</td>\n",
       "      <td>-0.569467</td>\n",
       "      <td>NaN</td>\n",
       "    </tr>\n",
       "    <tr>\n",
       "      <th>3</th>\n",
       "      <td>0.447739</td>\n",
       "      <td>0.898215</td>\n",
       "      <td>-0.298585</td>\n",
       "      <td>NaN</td>\n",
       "    </tr>\n",
       "    <tr>\n",
       "      <th>4</th>\n",
       "      <td>-0.080552</td>\n",
       "      <td>0.106972</td>\n",
       "      <td>-1.896163</td>\n",
       "      <td>NaN</td>\n",
       "    </tr>\n",
       "    <tr>\n",
       "      <th>5</th>\n",
       "      <td>0.279951</td>\n",
       "      <td>3.039250</td>\n",
       "      <td>0.895204</td>\n",
       "      <td>NaN</td>\n",
       "    </tr>\n",
       "    <tr>\n",
       "      <th>6</th>\n",
       "      <td>2.216397</td>\n",
       "      <td>0.493784</td>\n",
       "      <td>1.881839</td>\n",
       "      <td>NaN</td>\n",
       "    </tr>\n",
       "    <tr>\n",
       "      <th>7</th>\n",
       "      <td>0.234132</td>\n",
       "      <td>-1.667978</td>\n",
       "      <td>1.391710</td>\n",
       "      <td>NaN</td>\n",
       "    </tr>\n",
       "    <tr>\n",
       "      <th>8</th>\n",
       "      <td>NaN</td>\n",
       "      <td>NaN</td>\n",
       "      <td>NaN</td>\n",
       "      <td>NaN</td>\n",
       "    </tr>\n",
       "  </tbody>\n",
       "</table>\n",
       "</div>"
      ],
      "text/plain": [
       "          P         Q         R   S\n",
       "0 -1.359783 -0.362051  2.138860 NaN\n",
       "1  1.336226 -0.040574 -1.115697 NaN\n",
       "2  0.607396  0.102404 -0.569467 NaN\n",
       "3  0.447739  0.898215 -0.298585 NaN\n",
       "4 -0.080552  0.106972 -1.896163 NaN\n",
       "5  0.279951  3.039250  0.895204 NaN\n",
       "6  2.216397  0.493784  1.881839 NaN\n",
       "7  0.234132 -1.667978  1.391710 NaN\n",
       "8       NaN       NaN       NaN NaN"
      ]
     },
     "execution_count": 54,
     "metadata": {},
     "output_type": "execute_result"
    }
   ],
   "source": [
    "df + df2"
   ]
  },
  {
   "cell_type": "markdown",
   "metadata": {},
   "source": [
    "When doing an operation between DataFrame and Series, the default behavior is to align the Series index<br>\n",
    "on the DataFrame columns, thus broadcasting row-wise. For example:"
   ]
  },
  {
   "cell_type": "code",
   "execution_count": 55,
   "metadata": {},
   "outputs": [
    {
     "data": {
      "text/html": [
       "<div>\n",
       "<style scoped>\n",
       "    .dataframe tbody tr th:only-of-type {\n",
       "        vertical-align: middle;\n",
       "    }\n",
       "\n",
       "    .dataframe tbody tr th {\n",
       "        vertical-align: top;\n",
       "    }\n",
       "\n",
       "    .dataframe thead th {\n",
       "        text-align: right;\n",
       "    }\n",
       "</style>\n",
       "<table border=\"1\" class=\"dataframe\">\n",
       "  <thead>\n",
       "    <tr style=\"text-align: right;\">\n",
       "      <th></th>\n",
       "      <th>P</th>\n",
       "      <th>Q</th>\n",
       "      <th>R</th>\n",
       "      <th>S</th>\n",
       "    </tr>\n",
       "  </thead>\n",
       "  <tbody>\n",
       "    <tr>\n",
       "      <th>0</th>\n",
       "      <td>0.000000</td>\n",
       "      <td>0.000000</td>\n",
       "      <td>0.000000</td>\n",
       "      <td>0.000000</td>\n",
       "    </tr>\n",
       "    <tr>\n",
       "      <th>1</th>\n",
       "      <td>2.341762</td>\n",
       "      <td>-0.437433</td>\n",
       "      <td>-1.774010</td>\n",
       "      <td>-1.113588</td>\n",
       "    </tr>\n",
       "    <tr>\n",
       "      <th>2</th>\n",
       "      <td>0.865723</td>\n",
       "      <td>0.373685</td>\n",
       "      <td>-1.407959</td>\n",
       "      <td>-3.147135</td>\n",
       "    </tr>\n",
       "    <tr>\n",
       "      <th>3</th>\n",
       "      <td>2.369243</td>\n",
       "      <td>0.895406</td>\n",
       "      <td>-1.702355</td>\n",
       "      <td>-1.851926</td>\n",
       "    </tr>\n",
       "    <tr>\n",
       "      <th>4</th>\n",
       "      <td>1.958280</td>\n",
       "      <td>1.686684</td>\n",
       "      <td>-2.913750</td>\n",
       "      <td>-3.017007</td>\n",
       "    </tr>\n",
       "    <tr>\n",
       "      <th>5</th>\n",
       "      <td>2.228300</td>\n",
       "      <td>1.197087</td>\n",
       "      <td>0.170023</td>\n",
       "      <td>-2.952011</td>\n",
       "    </tr>\n",
       "    <tr>\n",
       "      <th>6</th>\n",
       "      <td>2.629536</td>\n",
       "      <td>0.359690</td>\n",
       "      <td>-1.355995</td>\n",
       "      <td>-2.316860</td>\n",
       "    </tr>\n",
       "    <tr>\n",
       "      <th>7</th>\n",
       "      <td>-0.537236</td>\n",
       "      <td>0.538296</td>\n",
       "      <td>-0.258632</td>\n",
       "      <td>-2.835196</td>\n",
       "    </tr>\n",
       "  </tbody>\n",
       "</table>\n",
       "</div>"
      ],
      "text/plain": [
       "          P         Q         R         S\n",
       "0  0.000000  0.000000  0.000000  0.000000\n",
       "1  2.341762 -0.437433 -1.774010 -1.113588\n",
       "2  0.865723  0.373685 -1.407959 -3.147135\n",
       "3  2.369243  0.895406 -1.702355 -1.851926\n",
       "4  1.958280  1.686684 -2.913750 -3.017007\n",
       "5  2.228300  1.197087  0.170023 -2.952011\n",
       "6  2.629536  0.359690 -1.355995 -2.316860\n",
       "7 -0.537236  0.538296 -0.258632 -2.835196"
      ]
     },
     "execution_count": 55,
     "metadata": {},
     "output_type": "execute_result"
    }
   ],
   "source": [
    " df - df.iloc[0]"
   ]
  },
  {
   "cell_type": "markdown",
   "metadata": {},
   "source": [
    "In the special case of working with time series data, if the DataFrame index contains dates,<br>\n",
    "the broadcasting will be column-wise:"
   ]
  },
  {
   "cell_type": "code",
   "execution_count": 56,
   "metadata": {},
   "outputs": [],
   "source": [
    "index = pd.date_range('1/1/2019', periods=6)"
   ]
  },
  {
   "cell_type": "code",
   "execution_count": 57,
   "metadata": {},
   "outputs": [],
   "source": [
    "df = pd.DataFrame(np.random.randn(6, 3), index=index, columns=list('XYZ'))"
   ]
  },
  {
   "cell_type": "code",
   "execution_count": 58,
   "metadata": {},
   "outputs": [
    {
     "data": {
      "text/html": [
       "<div>\n",
       "<style scoped>\n",
       "    .dataframe tbody tr th:only-of-type {\n",
       "        vertical-align: middle;\n",
       "    }\n",
       "\n",
       "    .dataframe tbody tr th {\n",
       "        vertical-align: top;\n",
       "    }\n",
       "\n",
       "    .dataframe thead th {\n",
       "        text-align: right;\n",
       "    }\n",
       "</style>\n",
       "<table border=\"1\" class=\"dataframe\">\n",
       "  <thead>\n",
       "    <tr style=\"text-align: right;\">\n",
       "      <th></th>\n",
       "      <th>X</th>\n",
       "      <th>Y</th>\n",
       "      <th>Z</th>\n",
       "    </tr>\n",
       "  </thead>\n",
       "  <tbody>\n",
       "    <tr>\n",
       "      <th>2019-01-01</th>\n",
       "      <td>0.723344</td>\n",
       "      <td>-0.086666</td>\n",
       "      <td>0.345296</td>\n",
       "    </tr>\n",
       "    <tr>\n",
       "      <th>2019-01-02</th>\n",
       "      <td>0.447144</td>\n",
       "      <td>-0.016384</td>\n",
       "      <td>-0.256257</td>\n",
       "    </tr>\n",
       "    <tr>\n",
       "      <th>2019-01-03</th>\n",
       "      <td>0.100551</td>\n",
       "      <td>-1.133672</td>\n",
       "      <td>0.038232</td>\n",
       "    </tr>\n",
       "    <tr>\n",
       "      <th>2019-01-04</th>\n",
       "      <td>-1.461892</td>\n",
       "      <td>-0.217720</td>\n",
       "      <td>-0.919715</td>\n",
       "    </tr>\n",
       "    <tr>\n",
       "      <th>2019-01-05</th>\n",
       "      <td>-0.093798</td>\n",
       "      <td>-0.058988</td>\n",
       "      <td>-0.569805</td>\n",
       "    </tr>\n",
       "    <tr>\n",
       "      <th>2019-01-06</th>\n",
       "      <td>-0.594957</td>\n",
       "      <td>0.881995</td>\n",
       "      <td>0.161602</td>\n",
       "    </tr>\n",
       "  </tbody>\n",
       "</table>\n",
       "</div>"
      ],
      "text/plain": [
       "                   X         Y         Z\n",
       "2019-01-01  0.723344 -0.086666  0.345296\n",
       "2019-01-02  0.447144 -0.016384 -0.256257\n",
       "2019-01-03  0.100551 -1.133672  0.038232\n",
       "2019-01-04 -1.461892 -0.217720 -0.919715\n",
       "2019-01-05 -0.093798 -0.058988 -0.569805\n",
       "2019-01-06 -0.594957  0.881995  0.161602"
      ]
     },
     "execution_count": 58,
     "metadata": {},
     "output_type": "execute_result"
    }
   ],
   "source": [
    "df"
   ]
  },
  {
   "cell_type": "code",
   "execution_count": 59,
   "metadata": {},
   "outputs": [
    {
     "data": {
      "text/plain": [
       "pandas.core.series.Series"
      ]
     },
     "execution_count": 59,
     "metadata": {},
     "output_type": "execute_result"
    }
   ],
   "source": [
    "type(df['X'])"
   ]
  },
  {
   "cell_type": "code",
   "execution_count": 60,
   "metadata": {},
   "outputs": [
    {
     "data": {
      "text/html": [
       "<div>\n",
       "<style scoped>\n",
       "    .dataframe tbody tr th:only-of-type {\n",
       "        vertical-align: middle;\n",
       "    }\n",
       "\n",
       "    .dataframe tbody tr th {\n",
       "        vertical-align: top;\n",
       "    }\n",
       "\n",
       "    .dataframe thead th {\n",
       "        text-align: right;\n",
       "    }\n",
       "</style>\n",
       "<table border=\"1\" class=\"dataframe\">\n",
       "  <thead>\n",
       "    <tr style=\"text-align: right;\">\n",
       "      <th></th>\n",
       "      <th>2019-01-01 00:00:00</th>\n",
       "      <th>2019-01-02 00:00:00</th>\n",
       "      <th>2019-01-03 00:00:00</th>\n",
       "      <th>2019-01-04 00:00:00</th>\n",
       "      <th>2019-01-05 00:00:00</th>\n",
       "      <th>2019-01-06 00:00:00</th>\n",
       "      <th>X</th>\n",
       "      <th>Y</th>\n",
       "      <th>Z</th>\n",
       "    </tr>\n",
       "  </thead>\n",
       "  <tbody>\n",
       "    <tr>\n",
       "      <th>2019-01-01</th>\n",
       "      <td>NaN</td>\n",
       "      <td>NaN</td>\n",
       "      <td>NaN</td>\n",
       "      <td>NaN</td>\n",
       "      <td>NaN</td>\n",
       "      <td>NaN</td>\n",
       "      <td>NaN</td>\n",
       "      <td>NaN</td>\n",
       "      <td>NaN</td>\n",
       "    </tr>\n",
       "    <tr>\n",
       "      <th>2019-01-02</th>\n",
       "      <td>NaN</td>\n",
       "      <td>NaN</td>\n",
       "      <td>NaN</td>\n",
       "      <td>NaN</td>\n",
       "      <td>NaN</td>\n",
       "      <td>NaN</td>\n",
       "      <td>NaN</td>\n",
       "      <td>NaN</td>\n",
       "      <td>NaN</td>\n",
       "    </tr>\n",
       "    <tr>\n",
       "      <th>2019-01-03</th>\n",
       "      <td>NaN</td>\n",
       "      <td>NaN</td>\n",
       "      <td>NaN</td>\n",
       "      <td>NaN</td>\n",
       "      <td>NaN</td>\n",
       "      <td>NaN</td>\n",
       "      <td>NaN</td>\n",
       "      <td>NaN</td>\n",
       "      <td>NaN</td>\n",
       "    </tr>\n",
       "    <tr>\n",
       "      <th>2019-01-04</th>\n",
       "      <td>NaN</td>\n",
       "      <td>NaN</td>\n",
       "      <td>NaN</td>\n",
       "      <td>NaN</td>\n",
       "      <td>NaN</td>\n",
       "      <td>NaN</td>\n",
       "      <td>NaN</td>\n",
       "      <td>NaN</td>\n",
       "      <td>NaN</td>\n",
       "    </tr>\n",
       "    <tr>\n",
       "      <th>2019-01-05</th>\n",
       "      <td>NaN</td>\n",
       "      <td>NaN</td>\n",
       "      <td>NaN</td>\n",
       "      <td>NaN</td>\n",
       "      <td>NaN</td>\n",
       "      <td>NaN</td>\n",
       "      <td>NaN</td>\n",
       "      <td>NaN</td>\n",
       "      <td>NaN</td>\n",
       "    </tr>\n",
       "    <tr>\n",
       "      <th>2019-01-06</th>\n",
       "      <td>NaN</td>\n",
       "      <td>NaN</td>\n",
       "      <td>NaN</td>\n",
       "      <td>NaN</td>\n",
       "      <td>NaN</td>\n",
       "      <td>NaN</td>\n",
       "      <td>NaN</td>\n",
       "      <td>NaN</td>\n",
       "      <td>NaN</td>\n",
       "    </tr>\n",
       "  </tbody>\n",
       "</table>\n",
       "</div>"
      ],
      "text/plain": [
       "            2019-01-01 00:00:00  2019-01-02 00:00:00  2019-01-03 00:00:00  \\\n",
       "2019-01-01                  NaN                  NaN                  NaN   \n",
       "2019-01-02                  NaN                  NaN                  NaN   \n",
       "2019-01-03                  NaN                  NaN                  NaN   \n",
       "2019-01-04                  NaN                  NaN                  NaN   \n",
       "2019-01-05                  NaN                  NaN                  NaN   \n",
       "2019-01-06                  NaN                  NaN                  NaN   \n",
       "\n",
       "            2019-01-04 00:00:00  2019-01-05 00:00:00  2019-01-06 00:00:00   X  \\\n",
       "2019-01-01                  NaN                  NaN                  NaN NaN   \n",
       "2019-01-02                  NaN                  NaN                  NaN NaN   \n",
       "2019-01-03                  NaN                  NaN                  NaN NaN   \n",
       "2019-01-04                  NaN                  NaN                  NaN NaN   \n",
       "2019-01-05                  NaN                  NaN                  NaN NaN   \n",
       "2019-01-06                  NaN                  NaN                  NaN NaN   \n",
       "\n",
       "             Y   Z  \n",
       "2019-01-01 NaN NaN  \n",
       "2019-01-02 NaN NaN  \n",
       "2019-01-03 NaN NaN  \n",
       "2019-01-04 NaN NaN  \n",
       "2019-01-05 NaN NaN  \n",
       "2019-01-06 NaN NaN  "
      ]
     },
     "execution_count": 60,
     "metadata": {},
     "output_type": "execute_result"
    }
   ],
   "source": [
    "df - df['X']"
   ]
  },
  {
   "cell_type": "markdown",
   "metadata": {},
   "source": [
    "For explicit control over the matching and broadcasting behavior."
   ]
  },
  {
   "cell_type": "markdown",
   "metadata": {},
   "source": [
    "Operations with scalars are just as you would expect:"
   ]
  },
  {
   "cell_type": "code",
   "execution_count": 61,
   "metadata": {},
   "outputs": [
    {
     "data": {
      "text/html": [
       "<div>\n",
       "<style scoped>\n",
       "    .dataframe tbody tr th:only-of-type {\n",
       "        vertical-align: middle;\n",
       "    }\n",
       "\n",
       "    .dataframe tbody tr th {\n",
       "        vertical-align: top;\n",
       "    }\n",
       "\n",
       "    .dataframe thead th {\n",
       "        text-align: right;\n",
       "    }\n",
       "</style>\n",
       "<table border=\"1\" class=\"dataframe\">\n",
       "  <thead>\n",
       "    <tr style=\"text-align: right;\">\n",
       "      <th></th>\n",
       "      <th>X</th>\n",
       "      <th>Y</th>\n",
       "      <th>Z</th>\n",
       "    </tr>\n",
       "  </thead>\n",
       "  <tbody>\n",
       "    <tr>\n",
       "      <th>2019-01-01</th>\n",
       "      <td>4.893376</td>\n",
       "      <td>1.653334</td>\n",
       "      <td>3.381182</td>\n",
       "    </tr>\n",
       "    <tr>\n",
       "      <th>2019-01-02</th>\n",
       "      <td>3.788575</td>\n",
       "      <td>1.934465</td>\n",
       "      <td>0.974971</td>\n",
       "    </tr>\n",
       "    <tr>\n",
       "      <th>2019-01-03</th>\n",
       "      <td>2.402204</td>\n",
       "      <td>-2.534689</td>\n",
       "      <td>2.152928</td>\n",
       "    </tr>\n",
       "    <tr>\n",
       "      <th>2019-01-04</th>\n",
       "      <td>-3.847566</td>\n",
       "      <td>1.129118</td>\n",
       "      <td>-1.678859</td>\n",
       "    </tr>\n",
       "    <tr>\n",
       "      <th>2019-01-05</th>\n",
       "      <td>1.624809</td>\n",
       "      <td>1.764047</td>\n",
       "      <td>-0.279221</td>\n",
       "    </tr>\n",
       "    <tr>\n",
       "      <th>2019-01-06</th>\n",
       "      <td>-0.379829</td>\n",
       "      <td>5.527982</td>\n",
       "      <td>2.646408</td>\n",
       "    </tr>\n",
       "  </tbody>\n",
       "</table>\n",
       "</div>"
      ],
      "text/plain": [
       "                   X         Y         Z\n",
       "2019-01-01  4.893376  1.653334  3.381182\n",
       "2019-01-02  3.788575  1.934465  0.974971\n",
       "2019-01-03  2.402204 -2.534689  2.152928\n",
       "2019-01-04 -3.847566  1.129118 -1.678859\n",
       "2019-01-05  1.624809  1.764047 -0.279221\n",
       "2019-01-06 -0.379829  5.527982  2.646408"
      ]
     },
     "execution_count": 61,
     "metadata": {},
     "output_type": "execute_result"
    }
   ],
   "source": [
    "df * 4 + 2"
   ]
  },
  {
   "cell_type": "code",
   "execution_count": 62,
   "metadata": {},
   "outputs": [
    {
     "data": {
      "text/html": [
       "<div>\n",
       "<style scoped>\n",
       "    .dataframe tbody tr th:only-of-type {\n",
       "        vertical-align: middle;\n",
       "    }\n",
       "\n",
       "    .dataframe tbody tr th {\n",
       "        vertical-align: top;\n",
       "    }\n",
       "\n",
       "    .dataframe thead th {\n",
       "        text-align: right;\n",
       "    }\n",
       "</style>\n",
       "<table border=\"1\" class=\"dataframe\">\n",
       "  <thead>\n",
       "    <tr style=\"text-align: right;\">\n",
       "      <th></th>\n",
       "      <th>X</th>\n",
       "      <th>Y</th>\n",
       "      <th>Z</th>\n",
       "    </tr>\n",
       "  </thead>\n",
       "  <tbody>\n",
       "    <tr>\n",
       "      <th>2019-01-01</th>\n",
       "      <td>1.382468</td>\n",
       "      <td>-11.538486</td>\n",
       "      <td>2.896070</td>\n",
       "    </tr>\n",
       "    <tr>\n",
       "      <th>2019-01-02</th>\n",
       "      <td>2.236417</td>\n",
       "      <td>-61.035978</td>\n",
       "      <td>-3.902330</td>\n",
       "    </tr>\n",
       "    <tr>\n",
       "      <th>2019-01-03</th>\n",
       "      <td>9.945196</td>\n",
       "      <td>-0.882089</td>\n",
       "      <td>26.156106</td>\n",
       "    </tr>\n",
       "    <tr>\n",
       "      <th>2019-01-04</th>\n",
       "      <td>-0.684045</td>\n",
       "      <td>-4.593046</td>\n",
       "      <td>-1.087294</td>\n",
       "    </tr>\n",
       "    <tr>\n",
       "      <th>2019-01-05</th>\n",
       "      <td>-10.661233</td>\n",
       "      <td>-16.952541</td>\n",
       "      <td>-1.754986</td>\n",
       "    </tr>\n",
       "    <tr>\n",
       "      <th>2019-01-06</th>\n",
       "      <td>-1.680793</td>\n",
       "      <td>1.133793</td>\n",
       "      <td>6.188043</td>\n",
       "    </tr>\n",
       "  </tbody>\n",
       "</table>\n",
       "</div>"
      ],
      "text/plain": [
       "                    X          Y          Z\n",
       "2019-01-01   1.382468 -11.538486   2.896070\n",
       "2019-01-02   2.236417 -61.035978  -3.902330\n",
       "2019-01-03   9.945196  -0.882089  26.156106\n",
       "2019-01-04  -0.684045  -4.593046  -1.087294\n",
       "2019-01-05 -10.661233 -16.952541  -1.754986\n",
       "2019-01-06  -1.680793   1.133793   6.188043"
      ]
     },
     "execution_count": 62,
     "metadata": {},
     "output_type": "execute_result"
    }
   ],
   "source": [
    "1 / df"
   ]
  },
  {
   "cell_type": "code",
   "execution_count": 63,
   "metadata": {},
   "outputs": [
    {
     "data": {
      "text/html": [
       "<div>\n",
       "<style scoped>\n",
       "    .dataframe tbody tr th:only-of-type {\n",
       "        vertical-align: middle;\n",
       "    }\n",
       "\n",
       "    .dataframe tbody tr th {\n",
       "        vertical-align: top;\n",
       "    }\n",
       "\n",
       "    .dataframe thead th {\n",
       "        text-align: right;\n",
       "    }\n",
       "</style>\n",
       "<table border=\"1\" class=\"dataframe\">\n",
       "  <thead>\n",
       "    <tr style=\"text-align: right;\">\n",
       "      <th></th>\n",
       "      <th>X</th>\n",
       "      <th>Y</th>\n",
       "      <th>Z</th>\n",
       "    </tr>\n",
       "  </thead>\n",
       "  <tbody>\n",
       "    <tr>\n",
       "      <th>2019-01-01</th>\n",
       "      <td>1.432417e-01</td>\n",
       "      <td>4.237475e-07</td>\n",
       "      <td>1.694907e-03</td>\n",
       "    </tr>\n",
       "    <tr>\n",
       "      <th>2019-01-02</th>\n",
       "      <td>7.992510e-03</td>\n",
       "      <td>1.934125e-11</td>\n",
       "      <td>2.831756e-04</td>\n",
       "    </tr>\n",
       "    <tr>\n",
       "      <th>2019-01-03</th>\n",
       "      <td>1.033523e-06</td>\n",
       "      <td>2.122880e+00</td>\n",
       "      <td>3.122924e-09</td>\n",
       "    </tr>\n",
       "    <tr>\n",
       "      <th>2019-01-04</th>\n",
       "      <td>9.760924e+00</td>\n",
       "      <td>1.065112e-04</td>\n",
       "      <td>6.052274e-01</td>\n",
       "    </tr>\n",
       "    <tr>\n",
       "      <th>2019-01-05</th>\n",
       "      <td>6.810132e-07</td>\n",
       "      <td>4.212997e-08</td>\n",
       "      <td>3.422619e-02</td>\n",
       "    </tr>\n",
       "    <tr>\n",
       "      <th>2019-01-06</th>\n",
       "      <td>4.435215e-02</td>\n",
       "      <td>4.707584e-01</td>\n",
       "      <td>1.781066e-05</td>\n",
       "    </tr>\n",
       "  </tbody>\n",
       "</table>\n",
       "</div>"
      ],
      "text/plain": [
       "                       X             Y             Z\n",
       "2019-01-01  1.432417e-01  4.237475e-07  1.694907e-03\n",
       "2019-01-02  7.992510e-03  1.934125e-11  2.831756e-04\n",
       "2019-01-03  1.033523e-06  2.122880e+00  3.122924e-09\n",
       "2019-01-04  9.760924e+00  1.065112e-04  6.052274e-01\n",
       "2019-01-05  6.810132e-07  4.212997e-08  3.422619e-02\n",
       "2019-01-06  4.435215e-02  4.707584e-01  1.781066e-05"
      ]
     },
     "execution_count": 63,
     "metadata": {},
     "output_type": "execute_result"
    }
   ],
   "source": [
    "df ** 6"
   ]
  },
  {
   "cell_type": "markdown",
   "metadata": {},
   "source": [
    "Boolean operators work as well:"
   ]
  },
  {
   "cell_type": "code",
   "execution_count": 64,
   "metadata": {},
   "outputs": [],
   "source": [
    "df1 = pd.DataFrame({'x': [1, 0, 1], 'y': [0, 1, 1]}, dtype=bool)"
   ]
  },
  {
   "cell_type": "code",
   "execution_count": 65,
   "metadata": {},
   "outputs": [],
   "source": [
    "df2 = pd.DataFrame({'x': [0, 1, 1], 'y': [1, 1, 0]}, dtype=bool)"
   ]
  },
  {
   "cell_type": "code",
   "execution_count": 66,
   "metadata": {},
   "outputs": [
    {
     "data": {
      "text/html": [
       "<div>\n",
       "<style scoped>\n",
       "    .dataframe tbody tr th:only-of-type {\n",
       "        vertical-align: middle;\n",
       "    }\n",
       "\n",
       "    .dataframe tbody tr th {\n",
       "        vertical-align: top;\n",
       "    }\n",
       "\n",
       "    .dataframe thead th {\n",
       "        text-align: right;\n",
       "    }\n",
       "</style>\n",
       "<table border=\"1\" class=\"dataframe\">\n",
       "  <thead>\n",
       "    <tr style=\"text-align: right;\">\n",
       "      <th></th>\n",
       "      <th>x</th>\n",
       "      <th>y</th>\n",
       "    </tr>\n",
       "  </thead>\n",
       "  <tbody>\n",
       "    <tr>\n",
       "      <th>0</th>\n",
       "      <td>False</td>\n",
       "      <td>False</td>\n",
       "    </tr>\n",
       "    <tr>\n",
       "      <th>1</th>\n",
       "      <td>False</td>\n",
       "      <td>True</td>\n",
       "    </tr>\n",
       "    <tr>\n",
       "      <th>2</th>\n",
       "      <td>True</td>\n",
       "      <td>False</td>\n",
       "    </tr>\n",
       "  </tbody>\n",
       "</table>\n",
       "</div>"
      ],
      "text/plain": [
       "       x      y\n",
       "0  False  False\n",
       "1  False   True\n",
       "2   True  False"
      ]
     },
     "execution_count": 66,
     "metadata": {},
     "output_type": "execute_result"
    }
   ],
   "source": [
    "df1 & df2"
   ]
  },
  {
   "cell_type": "code",
   "execution_count": 67,
   "metadata": {},
   "outputs": [
    {
     "data": {
      "text/html": [
       "<div>\n",
       "<style scoped>\n",
       "    .dataframe tbody tr th:only-of-type {\n",
       "        vertical-align: middle;\n",
       "    }\n",
       "\n",
       "    .dataframe tbody tr th {\n",
       "        vertical-align: top;\n",
       "    }\n",
       "\n",
       "    .dataframe thead th {\n",
       "        text-align: right;\n",
       "    }\n",
       "</style>\n",
       "<table border=\"1\" class=\"dataframe\">\n",
       "  <thead>\n",
       "    <tr style=\"text-align: right;\">\n",
       "      <th></th>\n",
       "      <th>x</th>\n",
       "      <th>y</th>\n",
       "    </tr>\n",
       "  </thead>\n",
       "  <tbody>\n",
       "    <tr>\n",
       "      <th>0</th>\n",
       "      <td>True</td>\n",
       "      <td>True</td>\n",
       "    </tr>\n",
       "    <tr>\n",
       "      <th>1</th>\n",
       "      <td>True</td>\n",
       "      <td>True</td>\n",
       "    </tr>\n",
       "    <tr>\n",
       "      <th>2</th>\n",
       "      <td>True</td>\n",
       "      <td>True</td>\n",
       "    </tr>\n",
       "  </tbody>\n",
       "</table>\n",
       "</div>"
      ],
      "text/plain": [
       "      x     y\n",
       "0  True  True\n",
       "1  True  True\n",
       "2  True  True"
      ]
     },
     "execution_count": 67,
     "metadata": {},
     "output_type": "execute_result"
    }
   ],
   "source": [
    "df1 | df2"
   ]
  },
  {
   "cell_type": "code",
   "execution_count": 68,
   "metadata": {},
   "outputs": [
    {
     "data": {
      "text/html": [
       "<div>\n",
       "<style scoped>\n",
       "    .dataframe tbody tr th:only-of-type {\n",
       "        vertical-align: middle;\n",
       "    }\n",
       "\n",
       "    .dataframe tbody tr th {\n",
       "        vertical-align: top;\n",
       "    }\n",
       "\n",
       "    .dataframe thead th {\n",
       "        text-align: right;\n",
       "    }\n",
       "</style>\n",
       "<table border=\"1\" class=\"dataframe\">\n",
       "  <thead>\n",
       "    <tr style=\"text-align: right;\">\n",
       "      <th></th>\n",
       "      <th>x</th>\n",
       "      <th>y</th>\n",
       "    </tr>\n",
       "  </thead>\n",
       "  <tbody>\n",
       "    <tr>\n",
       "      <th>0</th>\n",
       "      <td>True</td>\n",
       "      <td>True</td>\n",
       "    </tr>\n",
       "    <tr>\n",
       "      <th>1</th>\n",
       "      <td>True</td>\n",
       "      <td>False</td>\n",
       "    </tr>\n",
       "    <tr>\n",
       "      <th>2</th>\n",
       "      <td>False</td>\n",
       "      <td>True</td>\n",
       "    </tr>\n",
       "  </tbody>\n",
       "</table>\n",
       "</div>"
      ],
      "text/plain": [
       "       x      y\n",
       "0   True   True\n",
       "1   True  False\n",
       "2  False   True"
      ]
     },
     "execution_count": 68,
     "metadata": {},
     "output_type": "execute_result"
    }
   ],
   "source": [
    "df1 ^ df2"
   ]
  },
  {
   "cell_type": "code",
   "execution_count": 69,
   "metadata": {},
   "outputs": [
    {
     "data": {
      "text/html": [
       "<div>\n",
       "<style scoped>\n",
       "    .dataframe tbody tr th:only-of-type {\n",
       "        vertical-align: middle;\n",
       "    }\n",
       "\n",
       "    .dataframe tbody tr th {\n",
       "        vertical-align: top;\n",
       "    }\n",
       "\n",
       "    .dataframe thead th {\n",
       "        text-align: right;\n",
       "    }\n",
       "</style>\n",
       "<table border=\"1\" class=\"dataframe\">\n",
       "  <thead>\n",
       "    <tr style=\"text-align: right;\">\n",
       "      <th></th>\n",
       "      <th>x</th>\n",
       "      <th>y</th>\n",
       "    </tr>\n",
       "  </thead>\n",
       "  <tbody>\n",
       "    <tr>\n",
       "      <th>0</th>\n",
       "      <td>False</td>\n",
       "      <td>True</td>\n",
       "    </tr>\n",
       "    <tr>\n",
       "      <th>1</th>\n",
       "      <td>True</td>\n",
       "      <td>False</td>\n",
       "    </tr>\n",
       "    <tr>\n",
       "      <th>2</th>\n",
       "      <td>False</td>\n",
       "      <td>False</td>\n",
       "    </tr>\n",
       "  </tbody>\n",
       "</table>\n",
       "</div>"
      ],
      "text/plain": [
       "       x      y\n",
       "0  False   True\n",
       "1   True  False\n",
       "2  False  False"
      ]
     },
     "execution_count": 69,
     "metadata": {},
     "output_type": "execute_result"
    }
   ],
   "source": [
    "-df1"
   ]
  },
  {
   "cell_type": "markdown",
   "metadata": {},
   "source": [
    "**Show the first 5 rows:**"
   ]
  },
  {
   "cell_type": "code",
   "execution_count": 70,
   "metadata": {},
   "outputs": [
    {
     "data": {
      "text/html": [
       "<div>\n",
       "<style scoped>\n",
       "    .dataframe tbody tr th:only-of-type {\n",
       "        vertical-align: middle;\n",
       "    }\n",
       "\n",
       "    .dataframe tbody tr th {\n",
       "        vertical-align: top;\n",
       "    }\n",
       "\n",
       "    .dataframe thead th {\n",
       "        text-align: right;\n",
       "    }\n",
       "</style>\n",
       "<table border=\"1\" class=\"dataframe\">\n",
       "  <thead>\n",
       "    <tr style=\"text-align: right;\">\n",
       "      <th></th>\n",
       "      <th>2019-01-01 00:00:00</th>\n",
       "      <th>2019-01-02 00:00:00</th>\n",
       "      <th>2019-01-03 00:00:00</th>\n",
       "      <th>2019-01-04 00:00:00</th>\n",
       "      <th>2019-01-05 00:00:00</th>\n",
       "    </tr>\n",
       "  </thead>\n",
       "  <tbody>\n",
       "    <tr>\n",
       "      <th>X</th>\n",
       "      <td>0.723344</td>\n",
       "      <td>0.447144</td>\n",
       "      <td>0.100551</td>\n",
       "      <td>-1.461892</td>\n",
       "      <td>-0.093798</td>\n",
       "    </tr>\n",
       "    <tr>\n",
       "      <th>Y</th>\n",
       "      <td>-0.086666</td>\n",
       "      <td>-0.016384</td>\n",
       "      <td>-1.133672</td>\n",
       "      <td>-0.217720</td>\n",
       "      <td>-0.058988</td>\n",
       "    </tr>\n",
       "    <tr>\n",
       "      <th>Z</th>\n",
       "      <td>0.345296</td>\n",
       "      <td>-0.256257</td>\n",
       "      <td>0.038232</td>\n",
       "      <td>-0.919715</td>\n",
       "      <td>-0.569805</td>\n",
       "    </tr>\n",
       "  </tbody>\n",
       "</table>\n",
       "</div>"
      ],
      "text/plain": [
       "   2019-01-01  2019-01-02  2019-01-03  2019-01-04  2019-01-05\n",
       "X    0.723344    0.447144    0.100551   -1.461892   -0.093798\n",
       "Y   -0.086666   -0.016384   -1.133672   -0.217720   -0.058988\n",
       "Z    0.345296   -0.256257    0.038232   -0.919715   -0.569805"
      ]
     },
     "execution_count": 70,
     "metadata": {},
     "output_type": "execute_result"
    }
   ],
   "source": [
    "df[:5].T"
   ]
  },
  {
   "cell_type": "markdown",
   "metadata": {},
   "source": [
    "DataFrame interoperability with NumPy functions"
   ]
  },
  {
   "cell_type": "code",
   "execution_count": 71,
   "metadata": {},
   "outputs": [
    {
     "data": {
      "text/html": [
       "<div>\n",
       "<style scoped>\n",
       "    .dataframe tbody tr th:only-of-type {\n",
       "        vertical-align: middle;\n",
       "    }\n",
       "\n",
       "    .dataframe tbody tr th {\n",
       "        vertical-align: top;\n",
       "    }\n",
       "\n",
       "    .dataframe thead th {\n",
       "        text-align: right;\n",
       "    }\n",
       "</style>\n",
       "<table border=\"1\" class=\"dataframe\">\n",
       "  <thead>\n",
       "    <tr style=\"text-align: right;\">\n",
       "      <th></th>\n",
       "      <th>X</th>\n",
       "      <th>Y</th>\n",
       "      <th>Z</th>\n",
       "    </tr>\n",
       "  </thead>\n",
       "  <tbody>\n",
       "    <tr>\n",
       "      <th>2019-01-01</th>\n",
       "      <td>2.061315</td>\n",
       "      <td>0.916983</td>\n",
       "      <td>1.412407</td>\n",
       "    </tr>\n",
       "    <tr>\n",
       "      <th>2019-01-02</th>\n",
       "      <td>1.563839</td>\n",
       "      <td>0.983750</td>\n",
       "      <td>0.773943</td>\n",
       "    </tr>\n",
       "    <tr>\n",
       "      <th>2019-01-03</th>\n",
       "      <td>1.105780</td>\n",
       "      <td>0.321849</td>\n",
       "      <td>1.038972</td>\n",
       "    </tr>\n",
       "    <tr>\n",
       "      <th>2019-01-04</th>\n",
       "      <td>0.231797</td>\n",
       "      <td>0.804350</td>\n",
       "      <td>0.398633</td>\n",
       "    </tr>\n",
       "    <tr>\n",
       "      <th>2019-01-05</th>\n",
       "      <td>0.910467</td>\n",
       "      <td>0.942718</td>\n",
       "      <td>0.565636</td>\n",
       "    </tr>\n",
       "    <tr>\n",
       "      <th>2019-01-06</th>\n",
       "      <td>0.551586</td>\n",
       "      <td>2.415715</td>\n",
       "      <td>1.175392</td>\n",
       "    </tr>\n",
       "  </tbody>\n",
       "</table>\n",
       "</div>"
      ],
      "text/plain": [
       "                   X         Y         Z\n",
       "2019-01-01  2.061315  0.916983  1.412407\n",
       "2019-01-02  1.563839  0.983750  0.773943\n",
       "2019-01-03  1.105780  0.321849  1.038972\n",
       "2019-01-04  0.231797  0.804350  0.398633\n",
       "2019-01-05  0.910467  0.942718  0.565636\n",
       "2019-01-06  0.551586  2.415715  1.175392"
      ]
     },
     "execution_count": 71,
     "metadata": {},
     "output_type": "execute_result"
    }
   ],
   "source": [
    "np.exp(df)"
   ]
  },
  {
   "cell_type": "code",
   "execution_count": 72,
   "metadata": {},
   "outputs": [
    {
     "data": {
      "text/plain": [
       "array([[ 0.72334402, -0.08666649,  0.34529553],\n",
       "       [ 0.44714378, -0.01638378, -0.25625714],\n",
       "       [ 0.10055106, -1.13367237,  0.03823199],\n",
       "       [-1.46189155, -0.21772045, -0.91971464],\n",
       "       [-0.09379779, -0.05898821, -0.56980521],\n",
       "       [-0.59495728,  0.88199546,  0.16160197]])"
      ]
     },
     "execution_count": 72,
     "metadata": {},
     "output_type": "execute_result"
    }
   ],
   "source": [
    "np.asarray(df)"
   ]
  },
  {
   "cell_type": "markdown",
   "metadata": {},
   "source": [
    "pandas automatically align labeled inputs as part of a ufunc with multiple inputs.<br>\n",
    "For example, using numpy.remainder() on two Series with differently ordered labels will<br>\n",
    "align before the operation."
   ]
  },
  {
   "cell_type": "code",
   "execution_count": 73,
   "metadata": {},
   "outputs": [],
   "source": [
    "ser1 = pd.Series([2, 3, 4], index=['p', 'q', 'r'])"
   ]
  },
  {
   "cell_type": "code",
   "execution_count": 74,
   "metadata": {},
   "outputs": [],
   "source": [
    "ser2 = pd.Series([3, 4, 5], index=['q', 'p', 'r'])"
   ]
  },
  {
   "cell_type": "code",
   "execution_count": 75,
   "metadata": {},
   "outputs": [
    {
     "data": {
      "text/plain": [
       "p    2\n",
       "q    3\n",
       "r    4\n",
       "dtype: int64"
      ]
     },
     "execution_count": 75,
     "metadata": {},
     "output_type": "execute_result"
    }
   ],
   "source": [
    "ser1"
   ]
  },
  {
   "cell_type": "code",
   "execution_count": 76,
   "metadata": {},
   "outputs": [
    {
     "data": {
      "text/plain": [
       "q    3\n",
       "p    4\n",
       "r    5\n",
       "dtype: int64"
      ]
     },
     "execution_count": 76,
     "metadata": {},
     "output_type": "execute_result"
    }
   ],
   "source": [
    "ser2"
   ]
  },
  {
   "cell_type": "code",
   "execution_count": 77,
   "metadata": {},
   "outputs": [
    {
     "data": {
      "text/plain": [
       "p    2\n",
       "q    3\n",
       "r    4\n",
       "dtype: int64"
      ]
     },
     "execution_count": 77,
     "metadata": {},
     "output_type": "execute_result"
    }
   ],
   "source": [
    "np.remainder(ser1, ser2)"
   ]
  },
  {
   "cell_type": "markdown",
   "metadata": {},
   "source": [
    "As usual, the union of the two indices is taken, and non-overlapping values are filled with missing values."
   ]
  },
  {
   "cell_type": "code",
   "execution_count": 78,
   "metadata": {},
   "outputs": [],
   "source": [
    "ser3 = pd.Series([4, 6, 8], index=['q', 'r', 's'])"
   ]
  },
  {
   "cell_type": "code",
   "execution_count": 79,
   "metadata": {},
   "outputs": [
    {
     "data": {
      "text/plain": [
       "q    4\n",
       "r    6\n",
       "s    8\n",
       "dtype: int64"
      ]
     },
     "execution_count": 79,
     "metadata": {},
     "output_type": "execute_result"
    }
   ],
   "source": [
    "ser3"
   ]
  },
  {
   "cell_type": "code",
   "execution_count": 80,
   "metadata": {},
   "outputs": [
    {
     "data": {
      "text/plain": [
       "p    2\n",
       "q    3\n",
       "r    4\n",
       "dtype: int64"
      ]
     },
     "execution_count": 80,
     "metadata": {},
     "output_type": "execute_result"
    }
   ],
   "source": [
    "np.remainder(ser1, ser3)"
   ]
  },
  {
   "cell_type": "markdown",
   "metadata": {},
   "source": [
    "When a binary ufunc is applied to a Series and Index, the Series implementation takes precedence and<br>\n",
    "a Series is returned."
   ]
  },
  {
   "cell_type": "code",
   "execution_count": 81,
   "metadata": {},
   "outputs": [],
   "source": [
    "ser = pd.Series([2, 3, 4])"
   ]
  },
  {
   "cell_type": "code",
   "execution_count": 82,
   "metadata": {},
   "outputs": [],
   "source": [
    "idx = pd.Index([5, 6, 7])"
   ]
  },
  {
   "cell_type": "code",
   "execution_count": 83,
   "metadata": {},
   "outputs": [
    {
     "data": {
      "text/plain": [
       "0    5\n",
       "1    6\n",
       "2    7\n",
       "dtype: int64"
      ]
     },
     "execution_count": 83,
     "metadata": {},
     "output_type": "execute_result"
    }
   ],
   "source": [
    "np.maximum(ser, idx)"
   ]
  },
  {
   "cell_type": "markdown",
   "metadata": {},
   "source": [
    "NumPy ufuncs are safe to apply to Series backed by non-ndarray arrays.<br>\n",
    "If possible, the ufunc is applied without converting the underlying data to an ndarray."
   ]
  },
  {
   "cell_type": "markdown",
   "metadata": {},
   "source": [
    "**Console display**"
   ]
  },
  {
   "cell_type": "markdown",
   "metadata": {},
   "source": [
    "Very large DataFrames will be truncated to display them in the console."
   ]
  },
  {
   "cell_type": "code",
   "execution_count": 84,
   "metadata": {},
   "outputs": [],
   "source": [
    "baseball = pd.read_csv('https://raw.githubusercontent.com/pandas-dev/pandas/master/doc/data/baseball.csv')"
   ]
  },
  {
   "cell_type": "code",
   "execution_count": 85,
   "metadata": {},
   "outputs": [
    {
     "name": "stdout",
     "output_type": "stream",
     "text": [
      "       id     player  year  stint team  lg    g   ab   r    h  ...    rbi  \\\n",
      "0   88641  womacto01  2006      2  CHN  NL   19   50   6   14  ...    2.0   \n",
      "1   88643  schilcu01  2006      1  BOS  AL   31    2   0    1  ...    0.0   \n",
      "2   88645  myersmi01  2006      1  NYA  AL   62    0   0    0  ...    0.0   \n",
      "3   88649  helliri01  2006      1  MIL  NL   20    3   0    0  ...    0.0   \n",
      "4   88650  johnsra05  2006      1  NYA  AL   33    6   0    1  ...    0.0   \n",
      "5   88652  finlest01  2006      1  SFN  NL  139  426  66  105  ...   40.0   \n",
      "6   88653  gonzalu01  2006      1  ARI  NL  153  586  93  159  ...   73.0   \n",
      "7   88662   seleaa01  2006      1  LAN  NL   28   26   2    5  ...    0.0   \n",
      "8   89177  francju01  2007      2  ATL  NL   15   40   1   10  ...    8.0   \n",
      "9   89178  francju01  2007      1  NYN  NL   40   50   7   10  ...    8.0   \n",
      "10  89330   zaungr01  2007      1  TOR  AL  110  331  43   80  ...   52.0   \n",
      "11  89333  witasja01  2007      1  TBA  AL    3    0   0    0  ...    0.0   \n",
      "12  89334  williwo02  2007      1  HOU  NL   33   59   3    6  ...    2.0   \n",
      "13  89335  wickmbo01  2007      2  ARI  NL    8    0   0    0  ...    0.0   \n",
      "14  89336  wickmbo01  2007      1  ATL  NL   47    0   0    0  ...    0.0   \n",
      "15  89337  whitero02  2007      1  MIN  AL   38  109   8   19  ...   20.0   \n",
      "16  89338  whiteri01  2007      1  HOU  NL   20    1   0    0  ...    0.0   \n",
      "17  89339  wellsda01  2007      2  LAN  NL    7   15   2    4  ...    1.0   \n",
      "18  89340  wellsda01  2007      1  SDN  NL   22   38   1    4  ...    0.0   \n",
      "19  89341  weathda01  2007      1  CIN  NL   67    0   0    0  ...    0.0   \n",
      "20  89343  walketo04  2007      1  OAK  AL   18   48   5   13  ...    4.0   \n",
      "21  89345  wakefti01  2007      1  BOS  AL    1    2   0    0  ...    0.0   \n",
      "22  89347  vizquom01  2007      1  SFN  NL  145  513  54  126  ...   51.0   \n",
      "23  89348  villoro01  2007      1  NYA  AL    6    0   0    0  ...    0.0   \n",
      "24  89352  valenjo03  2007      1  NYN  NL   51  166  18   40  ...   18.0   \n",
      "25  89354  trachst01  2007      2  CHN  NL    4    7   0    1  ...    0.0   \n",
      "26  89355  trachst01  2007      1  BAL  AL    3    5   0    0  ...    0.0   \n",
      "27  89359  timlimi01  2007      1  BOS  AL    4    0   0    0  ...    0.0   \n",
      "28  89360  thomeji01  2007      1  CHA  AL  130  432  79  119  ...   96.0   \n",
      "29  89361  thomafr04  2007      1  TOR  AL  155  531  63  147  ...   95.0   \n",
      "..    ...        ...   ...    ...  ...  ..  ...  ...  ..  ...  ...    ...   \n",
      "70  89460  guarded01  2007      1  CIN  NL   15    0   0    0  ...    0.0   \n",
      "71  89462  griffke02  2007      1  CIN  NL  144  528  78  146  ...   93.0   \n",
      "72  89463  greensh01  2007      1  NYN  NL  130  446  62  130  ...   46.0   \n",
      "73  89464  graffto01  2007      1  MIL  NL   86  231  34   55  ...   30.0   \n",
      "74  89465  gordoto01  2007      1  PHI  NL   44    0   0    0  ...    0.0   \n",
      "75  89466  gonzalu01  2007      1  LAN  NL  139  464  70  129  ...   68.0   \n",
      "76  89467  gomezch02  2007      2  CLE  AL   19   53   4   15  ...    5.0   \n",
      "77  89468  gomezch02  2007      1  BAL  AL   73  169  17   51  ...   16.0   \n",
      "78  89469  glavito02  2007      1  NYN  NL   33   56   3   12  ...    4.0   \n",
      "79  89473  floydcl01  2007      1  CHN  NL  108  282  40   80  ...   45.0   \n",
      "80  89474  finlest01  2007      1  COL  NL   43   94   9   17  ...    2.0   \n",
      "81  89480  embreal01  2007      1  OAK  AL    4    0   0    0  ...    0.0   \n",
      "82  89481  edmonji01  2007      1  SLN  NL  117  365  39   92  ...   53.0   \n",
      "83  89482  easleda01  2007      1  NYN  NL   76  193  24   54  ...   26.0   \n",
      "84  89489  delgaca01  2007      1  NYN  NL  139  538  71  139  ...   87.0   \n",
      "85  89493  cormirh01  2007      1  CIN  NL    6    0   0    0  ...    0.0   \n",
      "86  89494  coninje01  2007      2  NYN  NL   21   41   2    8  ...    5.0   \n",
      "87  89495  coninje01  2007      1  CIN  NL   80  215  23   57  ...   32.0   \n",
      "88  89497  clemero02  2007      1  NYA  AL    2    2   0    1  ...    0.0   \n",
      "89  89498  claytro01  2007      2  BOS  AL    8    6   1    0  ...    0.0   \n",
      "90  89499  claytro01  2007      1  TOR  AL   69  189  23   48  ...   12.0   \n",
      "91  89501  cirilje01  2007      2  ARI  NL   28   40   6    8  ...    6.0   \n",
      "92  89502  cirilje01  2007      1  MIN  AL   50  153  18   40  ...   21.0   \n",
      "93  89521  bondsba01  2007      1  SFN  NL  126  340  75   94  ...   66.0   \n",
      "94  89523  biggicr01  2007      1  HOU  NL  141  517  68  130  ...   50.0   \n",
      "95  89525  benitar01  2007      2  FLO  NL   34    0   0    0  ...    0.0   \n",
      "96  89526  benitar01  2007      1  SFN  NL   19    0   0    0  ...    0.0   \n",
      "97  89530  ausmubr01  2007      1  HOU  NL  117  349  38   82  ...   25.0   \n",
      "98  89533   aloumo01  2007      1  NYN  NL   87  328  51  112  ...   49.0   \n",
      "99  89534  alomasa02  2007      1  NYN  NL    8   22   1    3  ...    0.0   \n",
      "\n",
      "      sb   cs   bb     so   ibb   hbp    sh   sf  gidp  \n",
      "0    1.0  1.0    4    4.0   0.0   0.0   3.0  0.0   0.0  \n",
      "1    0.0  0.0    0    1.0   0.0   0.0   0.0  0.0   0.0  \n",
      "2    0.0  0.0    0    0.0   0.0   0.0   0.0  0.0   0.0  \n",
      "3    0.0  0.0    0    2.0   0.0   0.0   0.0  0.0   0.0  \n",
      "4    0.0  0.0    0    4.0   0.0   0.0   0.0  0.0   0.0  \n",
      "5    7.0  0.0   46   55.0   2.0   2.0   3.0  4.0   6.0  \n",
      "6    0.0  1.0   69   58.0  10.0   7.0   0.0  6.0  14.0  \n",
      "7    0.0  0.0    1    7.0   0.0   0.0   6.0  0.0   1.0  \n",
      "8    0.0  0.0    4   10.0   1.0   0.0   0.0  1.0   1.0  \n",
      "9    2.0  1.0   10   13.0   0.0   0.0   0.0  1.0   1.0  \n",
      "10   0.0  0.0   51   55.0   8.0   2.0   1.0  6.0   9.0  \n",
      "11   0.0  0.0    0    0.0   0.0   0.0   0.0  0.0   0.0  \n",
      "12   0.0  0.0    0   25.0   0.0   0.0   5.0  0.0   1.0  \n",
      "13   0.0  0.0    0    0.0   0.0   0.0   0.0  0.0   0.0  \n",
      "14   0.0  0.0    0    0.0   0.0   0.0   0.0  0.0   0.0  \n",
      "15   0.0  0.0    6   19.0   0.0   3.0   0.0  1.0   2.0  \n",
      "16   0.0  0.0    0    1.0   0.0   0.0   0.0  0.0   0.0  \n",
      "17   0.0  0.0    0    6.0   0.0   0.0   0.0  0.0   0.0  \n",
      "18   0.0  0.0    0   12.0   0.0   0.0   4.0  0.0   0.0  \n",
      "19   0.0  0.0    0    0.0   0.0   0.0   0.0  0.0   0.0  \n",
      "20   0.0  0.0    2    4.0   0.0   0.0   0.0  2.0   2.0  \n",
      "21   0.0  0.0    0    2.0   0.0   0.0   0.0  0.0   0.0  \n",
      "22  14.0  6.0   44   48.0   6.0   1.0  14.0  3.0  14.0  \n",
      "23   0.0  0.0    0    0.0   0.0   0.0   0.0  0.0   0.0  \n",
      "24   2.0  1.0   15   28.0   4.0   0.0   1.0  1.0   5.0  \n",
      "25   0.0  0.0    0    1.0   0.0   0.0   0.0  0.0   0.0  \n",
      "26   0.0  0.0    0    3.0   0.0   0.0   0.0  0.0   0.0  \n",
      "27   0.0  0.0    0    0.0   0.0   0.0   0.0  0.0   0.0  \n",
      "28   0.0  1.0   95  134.0  11.0   6.0   0.0  3.0  10.0  \n",
      "29   0.0  0.0   81   94.0   3.0   7.0   0.0  5.0  14.0  \n",
      "..   ...  ...  ...    ...   ...   ...   ...  ...   ...  \n",
      "70   0.0  0.0    0    0.0   0.0   0.0   0.0  0.0   0.0  \n",
      "71   6.0  1.0   85   99.0  14.0   1.0   0.0  9.0  14.0  \n",
      "72  11.0  1.0   37   62.0   4.0   5.0   1.0  1.0  14.0  \n",
      "73   0.0  1.0   24   44.0   6.0   3.0   0.0  2.0   7.0  \n",
      "74   0.0  0.0    0    0.0   0.0   0.0   0.0  0.0   0.0  \n",
      "75   6.0  2.0   56   56.0   4.0   4.0   0.0  2.0  11.0  \n",
      "76   0.0  0.0    0    6.0   0.0   0.0   1.0  1.0   1.0  \n",
      "77   1.0  2.0   10   20.0   1.0   0.0   5.0  1.0   5.0  \n",
      "78   0.0  0.0    6    5.0   0.0   0.0  12.0  1.0   0.0  \n",
      "79   0.0  0.0   35   47.0   5.0   5.0   0.0  0.0   6.0  \n",
      "80   0.0  0.0    8    4.0   1.0   0.0   0.0  0.0   2.0  \n",
      "81   0.0  0.0    0    0.0   0.0   0.0   0.0  0.0   0.0  \n",
      "82   0.0  2.0   41   75.0   2.0   0.0   2.0  3.0   9.0  \n",
      "83   0.0  1.0   19   35.0   1.0   5.0   0.0  1.0   2.0  \n",
      "84   4.0  0.0   52  118.0   8.0  11.0   0.0  6.0  12.0  \n",
      "85   0.0  0.0    0    0.0   0.0   0.0   0.0  0.0   0.0  \n",
      "86   0.0  0.0    7    8.0   2.0   0.0   1.0  1.0   1.0  \n",
      "87   4.0  0.0   20   28.0   0.0   0.0   1.0  6.0   4.0  \n",
      "88   0.0  0.0    0    0.0   0.0   0.0   0.0  0.0   0.0  \n",
      "89   0.0  0.0    0    3.0   0.0   0.0   0.0  0.0   2.0  \n",
      "90   2.0  1.0   14   50.0   0.0   1.0   3.0  3.0   8.0  \n",
      "91   0.0  0.0    4    6.0   0.0   0.0   0.0  0.0   1.0  \n",
      "92   2.0  0.0   15   13.0   0.0   1.0   3.0  2.0   9.0  \n",
      "93   5.0  0.0  132   54.0  43.0   3.0   0.0  2.0  13.0  \n",
      "94   4.0  3.0   23  112.0   0.0   3.0   7.0  5.0   5.0  \n",
      "95   0.0  0.0    0    0.0   0.0   0.0   0.0  0.0   0.0  \n",
      "96   0.0  0.0    0    0.0   0.0   0.0   0.0  0.0   0.0  \n",
      "97   6.0  1.0   37   74.0   3.0   6.0   4.0  1.0  11.0  \n",
      "98   3.0  0.0   27   30.0   5.0   2.0   0.0  3.0  13.0  \n",
      "99   0.0  0.0    0    3.0   0.0   0.0   0.0  0.0   0.0  \n",
      "\n",
      "[100 rows x 23 columns]\n"
     ]
    }
   ],
   "source": [
    "print(baseball)"
   ]
  },
  {
   "cell_type": "code",
   "execution_count": 86,
   "metadata": {},
   "outputs": [
    {
     "name": "stdout",
     "output_type": "stream",
     "text": [
      "<class 'pandas.core.frame.DataFrame'>\n",
      "RangeIndex: 100 entries, 0 to 99\n",
      "Data columns (total 23 columns):\n",
      "id        100 non-null int64\n",
      "player    100 non-null object\n",
      "year      100 non-null int64\n",
      "stint     100 non-null int64\n",
      "team      100 non-null object\n",
      "lg        100 non-null object\n",
      "g         100 non-null int64\n",
      "ab        100 non-null int64\n",
      "r         100 non-null int64\n",
      "h         100 non-null int64\n",
      "X2b       100 non-null int64\n",
      "X3b       100 non-null int64\n",
      "hr        100 non-null int64\n",
      "rbi       100 non-null float64\n",
      "sb        100 non-null float64\n",
      "cs        100 non-null float64\n",
      "bb        100 non-null int64\n",
      "so        100 non-null float64\n",
      "ibb       100 non-null float64\n",
      "hbp       100 non-null float64\n",
      "sh        100 non-null float64\n",
      "sf        100 non-null float64\n",
      "gidp      100 non-null float64\n",
      "dtypes: float64(9), int64(11), object(3)\n",
      "memory usage: 18.0+ KB\n"
     ]
    }
   ],
   "source": [
    "baseball.info()"
   ]
  },
  {
   "cell_type": "markdown",
   "metadata": {},
   "source": [
    "However, using to_string will return a string representation of the DataFrame in tabular form, though<br>\n",
    "it won’t always fit the console width:"
   ]
  },
  {
   "cell_type": "code",
   "execution_count": 87,
   "metadata": {},
   "outputs": [
    {
     "name": "stdout",
     "output_type": "stream",
     "text": [
      "       id     player  year  stint team  lg    g   ab   r    h\n",
      "80  89474  finlest01  2007      1  COL  NL   43   94   9   17\n",
      "81  89480  embreal01  2007      1  OAK  AL    4    0   0    0\n",
      "82  89481  edmonji01  2007      1  SLN  NL  117  365  39   92\n",
      "83  89482  easleda01  2007      1  NYN  NL   76  193  24   54\n",
      "84  89489  delgaca01  2007      1  NYN  NL  139  538  71  139\n",
      "85  89493  cormirh01  2007      1  CIN  NL    6    0   0    0\n",
      "86  89494  coninje01  2007      2  NYN  NL   21   41   2    8\n",
      "87  89495  coninje01  2007      1  CIN  NL   80  215  23   57\n",
      "88  89497  clemero02  2007      1  NYA  AL    2    2   0    1\n",
      "89  89498  claytro01  2007      2  BOS  AL    8    6   1    0\n",
      "90  89499  claytro01  2007      1  TOR  AL   69  189  23   48\n",
      "91  89501  cirilje01  2007      2  ARI  NL   28   40   6    8\n",
      "92  89502  cirilje01  2007      1  MIN  AL   50  153  18   40\n",
      "93  89521  bondsba01  2007      1  SFN  NL  126  340  75   94\n",
      "94  89523  biggicr01  2007      1  HOU  NL  141  517  68  130\n",
      "95  89525  benitar01  2007      2  FLO  NL   34    0   0    0\n",
      "96  89526  benitar01  2007      1  SFN  NL   19    0   0    0\n",
      "97  89530  ausmubr01  2007      1  HOU  NL  117  349  38   82\n",
      "98  89533   aloumo01  2007      1  NYN  NL   87  328  51  112\n",
      "99  89534  alomasa02  2007      1  NYN  NL    8   22   1    3\n"
     ]
    }
   ],
   "source": [
    "print(baseball.iloc[-20:, :10].to_string())"
   ]
  },
  {
   "cell_type": "markdown",
   "metadata": {},
   "source": [
    "Wide DataFrames will be printed across multiple rows by default:"
   ]
  },
  {
   "cell_type": "code",
   "execution_count": 88,
   "metadata": {},
   "outputs": [
    {
     "data": {
      "text/html": [
       "<div>\n",
       "<style scoped>\n",
       "    .dataframe tbody tr th:only-of-type {\n",
       "        vertical-align: middle;\n",
       "    }\n",
       "\n",
       "    .dataframe tbody tr th {\n",
       "        vertical-align: top;\n",
       "    }\n",
       "\n",
       "    .dataframe thead th {\n",
       "        text-align: right;\n",
       "    }\n",
       "</style>\n",
       "<table border=\"1\" class=\"dataframe\">\n",
       "  <thead>\n",
       "    <tr style=\"text-align: right;\">\n",
       "      <th></th>\n",
       "      <th>0</th>\n",
       "      <th>1</th>\n",
       "      <th>2</th>\n",
       "      <th>3</th>\n",
       "      <th>4</th>\n",
       "      <th>5</th>\n",
       "      <th>6</th>\n",
       "      <th>7</th>\n",
       "      <th>8</th>\n",
       "      <th>9</th>\n",
       "    </tr>\n",
       "  </thead>\n",
       "  <tbody>\n",
       "    <tr>\n",
       "      <th>0</th>\n",
       "      <td>-1.162526</td>\n",
       "      <td>0.474868</td>\n",
       "      <td>0.157520</td>\n",
       "      <td>-0.226966</td>\n",
       "      <td>0.288694</td>\n",
       "      <td>-0.204342</td>\n",
       "      <td>-0.454281</td>\n",
       "      <td>-0.492041</td>\n",
       "      <td>0.626862</td>\n",
       "      <td>0.603523</td>\n",
       "    </tr>\n",
       "    <tr>\n",
       "      <th>1</th>\n",
       "      <td>0.741971</td>\n",
       "      <td>-0.570777</td>\n",
       "      <td>2.065719</td>\n",
       "      <td>0.844021</td>\n",
       "      <td>0.010747</td>\n",
       "      <td>1.188861</td>\n",
       "      <td>-1.831683</td>\n",
       "      <td>-0.340063</td>\n",
       "      <td>0.471729</td>\n",
       "      <td>0.140003</td>\n",
       "    </tr>\n",
       "    <tr>\n",
       "      <th>2</th>\n",
       "      <td>0.906849</td>\n",
       "      <td>0.335401</td>\n",
       "      <td>-0.159554</td>\n",
       "      <td>2.874012</td>\n",
       "      <td>1.539447</td>\n",
       "      <td>1.144927</td>\n",
       "      <td>-0.902080</td>\n",
       "      <td>-0.008464</td>\n",
       "      <td>0.475082</td>\n",
       "      <td>-0.746442</td>\n",
       "    </tr>\n",
       "    <tr>\n",
       "      <th>3</th>\n",
       "      <td>-0.377446</td>\n",
       "      <td>0.023604</td>\n",
       "      <td>-0.616251</td>\n",
       "      <td>1.465809</td>\n",
       "      <td>-0.255740</td>\n",
       "      <td>-1.556993</td>\n",
       "      <td>-1.046476</td>\n",
       "      <td>2.627271</td>\n",
       "      <td>1.470708</td>\n",
       "      <td>0.409682</td>\n",
       "    </tr>\n",
       "  </tbody>\n",
       "</table>\n",
       "</div>"
      ],
      "text/plain": [
       "          0         1         2         3         4         5         6  \\\n",
       "0 -1.162526  0.474868  0.157520 -0.226966  0.288694 -0.204342 -0.454281   \n",
       "1  0.741971 -0.570777  2.065719  0.844021  0.010747  1.188861 -1.831683   \n",
       "2  0.906849  0.335401 -0.159554  2.874012  1.539447  1.144927 -0.902080   \n",
       "3 -0.377446  0.023604 -0.616251  1.465809 -0.255740 -1.556993 -1.046476   \n",
       "\n",
       "          7         8         9  \n",
       "0 -0.492041  0.626862  0.603523  \n",
       "1 -0.340063  0.471729  0.140003  \n",
       "2 -0.008464  0.475082 -0.746442  \n",
       "3  2.627271  1.470708  0.409682  "
      ]
     },
     "execution_count": 88,
     "metadata": {},
     "output_type": "execute_result"
    }
   ],
   "source": [
    "pd.DataFrame(np.random.randn(4, 10))"
   ]
  },
  {
   "cell_type": "markdown",
   "metadata": {},
   "source": [
    "You can change how much to print on a single row by setting the display.width option:"
   ]
  },
  {
   "cell_type": "code",
   "execution_count": 89,
   "metadata": {},
   "outputs": [],
   "source": [
    "pd.set_option('display.width', 30)"
   ]
  },
  {
   "cell_type": "code",
   "execution_count": 90,
   "metadata": {},
   "outputs": [
    {
     "data": {
      "text/html": [
       "<div>\n",
       "<style scoped>\n",
       "    .dataframe tbody tr th:only-of-type {\n",
       "        vertical-align: middle;\n",
       "    }\n",
       "\n",
       "    .dataframe tbody tr th {\n",
       "        vertical-align: top;\n",
       "    }\n",
       "\n",
       "    .dataframe thead th {\n",
       "        text-align: right;\n",
       "    }\n",
       "</style>\n",
       "<table border=\"1\" class=\"dataframe\">\n",
       "  <thead>\n",
       "    <tr style=\"text-align: right;\">\n",
       "      <th></th>\n",
       "      <th>0</th>\n",
       "      <th>1</th>\n",
       "      <th>2</th>\n",
       "      <th>3</th>\n",
       "      <th>4</th>\n",
       "      <th>5</th>\n",
       "      <th>6</th>\n",
       "      <th>7</th>\n",
       "      <th>8</th>\n",
       "      <th>9</th>\n",
       "    </tr>\n",
       "  </thead>\n",
       "  <tbody>\n",
       "    <tr>\n",
       "      <th>0</th>\n",
       "      <td>-2.318650</td>\n",
       "      <td>-0.313811</td>\n",
       "      <td>1.507447</td>\n",
       "      <td>-0.665551</td>\n",
       "      <td>0.694109</td>\n",
       "      <td>-0.522585</td>\n",
       "      <td>0.100735</td>\n",
       "      <td>-0.246376</td>\n",
       "      <td>1.584034</td>\n",
       "      <td>-0.390303</td>\n",
       "    </tr>\n",
       "    <tr>\n",
       "      <th>1</th>\n",
       "      <td>1.120756</td>\n",
       "      <td>-0.513528</td>\n",
       "      <td>-1.517324</td>\n",
       "      <td>0.908516</td>\n",
       "      <td>0.356448</td>\n",
       "      <td>0.036096</td>\n",
       "      <td>2.135186</td>\n",
       "      <td>-0.004657</td>\n",
       "      <td>1.790709</td>\n",
       "      <td>-0.302300</td>\n",
       "    </tr>\n",
       "    <tr>\n",
       "      <th>2</th>\n",
       "      <td>-0.677450</td>\n",
       "      <td>1.360683</td>\n",
       "      <td>-0.929337</td>\n",
       "      <td>-0.739711</td>\n",
       "      <td>0.434875</td>\n",
       "      <td>0.171721</td>\n",
       "      <td>-0.394395</td>\n",
       "      <td>1.956881</td>\n",
       "      <td>0.874484</td>\n",
       "      <td>-0.963741</td>\n",
       "    </tr>\n",
       "    <tr>\n",
       "      <th>3</th>\n",
       "      <td>1.195355</td>\n",
       "      <td>0.090944</td>\n",
       "      <td>-0.699150</td>\n",
       "      <td>-0.653663</td>\n",
       "      <td>0.075695</td>\n",
       "      <td>-0.140222</td>\n",
       "      <td>0.132759</td>\n",
       "      <td>-0.377024</td>\n",
       "      <td>-0.758761</td>\n",
       "      <td>-0.642230</td>\n",
       "    </tr>\n",
       "  </tbody>\n",
       "</table>\n",
       "</div>"
      ],
      "text/plain": [
       "          0         1  \\\n",
       "0 -2.318650 -0.313811   \n",
       "1  1.120756 -0.513528   \n",
       "2 -0.677450  1.360683   \n",
       "3  1.195355  0.090944   \n",
       "\n",
       "          2         3  \\\n",
       "0  1.507447 -0.665551   \n",
       "1 -1.517324  0.908516   \n",
       "2 -0.929337 -0.739711   \n",
       "3 -0.699150 -0.653663   \n",
       "\n",
       "          4         5  \\\n",
       "0  0.694109 -0.522585   \n",
       "1  0.356448  0.036096   \n",
       "2  0.434875  0.171721   \n",
       "3  0.075695 -0.140222   \n",
       "\n",
       "          6         7  \\\n",
       "0  0.100735 -0.246376   \n",
       "1  2.135186 -0.004657   \n",
       "2 -0.394395  1.956881   \n",
       "3  0.132759 -0.377024   \n",
       "\n",
       "          8         9  \n",
       "0  1.584034 -0.390303  \n",
       "1  1.790709 -0.302300  \n",
       "2  0.874484 -0.963741  \n",
       "3 -0.758761 -0.642230  "
      ]
     },
     "execution_count": 90,
     "metadata": {},
     "output_type": "execute_result"
    }
   ],
   "source": [
    "pd.DataFrame(np.random.randn(4, 10))"
   ]
  },
  {
   "cell_type": "markdown",
   "metadata": {},
   "source": [
    "You can adjust the max width of the individual columns by setting display.max_colwidth"
   ]
  },
  {
   "cell_type": "code",
   "execution_count": 91,
   "metadata": {},
   "outputs": [],
   "source": [
    "datafile = {'filename': ['filename_01', 'filename_02'],\n",
    "             'path': [\"media/user_name/storage/folder_01/filename_01\",\n",
    "                      \"media/user_name/storage/folder_02/filename_02\"]}"
   ]
  },
  {
   "cell_type": "code",
   "execution_count": 92,
   "metadata": {},
   "outputs": [],
   "source": [
    "pd.set_option('display.max_colwidth', 40)"
   ]
  },
  {
   "cell_type": "code",
   "execution_count": 93,
   "metadata": {},
   "outputs": [
    {
     "data": {
      "text/html": [
       "<div>\n",
       "<style scoped>\n",
       "    .dataframe tbody tr th:only-of-type {\n",
       "        vertical-align: middle;\n",
       "    }\n",
       "\n",
       "    .dataframe tbody tr th {\n",
       "        vertical-align: top;\n",
       "    }\n",
       "\n",
       "    .dataframe thead th {\n",
       "        text-align: right;\n",
       "    }\n",
       "</style>\n",
       "<table border=\"1\" class=\"dataframe\">\n",
       "  <thead>\n",
       "    <tr style=\"text-align: right;\">\n",
       "      <th></th>\n",
       "      <th>filename</th>\n",
       "      <th>path</th>\n",
       "    </tr>\n",
       "  </thead>\n",
       "  <tbody>\n",
       "    <tr>\n",
       "      <th>0</th>\n",
       "      <td>filename_01</td>\n",
       "      <td>media/user_name/storage/folder_01/fi...</td>\n",
       "    </tr>\n",
       "    <tr>\n",
       "      <th>1</th>\n",
       "      <td>filename_02</td>\n",
       "      <td>media/user_name/storage/folder_02/fi...</td>\n",
       "    </tr>\n",
       "  </tbody>\n",
       "</table>\n",
       "</div>"
      ],
      "text/plain": [
       "      filename  \\\n",
       "0  filename_01   \n",
       "1  filename_02   \n",
       "\n",
       "                                      path  \n",
       "0  media/user_name/storage/folder_01/fi...  \n",
       "1  media/user_name/storage/folder_02/fi...  "
      ]
     },
     "execution_count": 93,
     "metadata": {},
     "output_type": "execute_result"
    }
   ],
   "source": [
    "pd.DataFrame(datafile)"
   ]
  },
  {
   "cell_type": "code",
   "execution_count": 95,
   "metadata": {},
   "outputs": [],
   "source": [
    "pd.set_option('display.max_colwidth', 100)"
   ]
  },
  {
   "cell_type": "code",
   "execution_count": 96,
   "metadata": {},
   "outputs": [
    {
     "data": {
      "text/html": [
       "<div>\n",
       "<style scoped>\n",
       "    .dataframe tbody tr th:only-of-type {\n",
       "        vertical-align: middle;\n",
       "    }\n",
       "\n",
       "    .dataframe tbody tr th {\n",
       "        vertical-align: top;\n",
       "    }\n",
       "\n",
       "    .dataframe thead th {\n",
       "        text-align: right;\n",
       "    }\n",
       "</style>\n",
       "<table border=\"1\" class=\"dataframe\">\n",
       "  <thead>\n",
       "    <tr style=\"text-align: right;\">\n",
       "      <th></th>\n",
       "      <th>filename</th>\n",
       "      <th>path</th>\n",
       "    </tr>\n",
       "  </thead>\n",
       "  <tbody>\n",
       "    <tr>\n",
       "      <th>0</th>\n",
       "      <td>filename_01</td>\n",
       "      <td>media/user_name/storage/folder_01/filename_01</td>\n",
       "    </tr>\n",
       "    <tr>\n",
       "      <th>1</th>\n",
       "      <td>filename_02</td>\n",
       "      <td>media/user_name/storage/folder_02/filename_02</td>\n",
       "    </tr>\n",
       "  </tbody>\n",
       "</table>\n",
       "</div>"
      ],
      "text/plain": [
       "      filename  \\\n",
       "0  filename_01   \n",
       "1  filename_02   \n",
       "\n",
       "                                            path  \n",
       "0  media/user_name/storage/folder_01/filename_01  \n",
       "1  media/user_name/storage/folder_02/filename_02  "
      ]
     },
     "execution_count": 96,
     "metadata": {},
     "output_type": "execute_result"
    }
   ],
   "source": [
    "pd.DataFrame(datafile)"
   ]
  },
  {
   "cell_type": "markdown",
   "metadata": {},
   "source": [
    "You can also disable this feature via the expand_frame_repr option. This will print the table in one block."
   ]
  },
  {
   "cell_type": "markdown",
   "metadata": {},
   "source": [
    "**DataFrame column attribute access and IPython completion**"
   ]
  },
  {
   "cell_type": "markdown",
   "metadata": {},
   "source": [
    "If a DataFrame column label is a valid Python variable name, the column can be accessed like an attribute:"
   ]
  },
  {
   "cell_type": "code",
   "execution_count": 97,
   "metadata": {},
   "outputs": [
    {
     "data": {
      "text/html": [
       "<div>\n",
       "<style scoped>\n",
       "    .dataframe tbody tr th:only-of-type {\n",
       "        vertical-align: middle;\n",
       "    }\n",
       "\n",
       "    .dataframe tbody tr th {\n",
       "        vertical-align: top;\n",
       "    }\n",
       "\n",
       "    .dataframe thead th {\n",
       "        text-align: right;\n",
       "    }\n",
       "</style>\n",
       "<table border=\"1\" class=\"dataframe\">\n",
       "  <thead>\n",
       "    <tr style=\"text-align: right;\">\n",
       "      <th></th>\n",
       "      <th>boo1</th>\n",
       "      <th>boo2</th>\n",
       "    </tr>\n",
       "  </thead>\n",
       "  <tbody>\n",
       "    <tr>\n",
       "      <th>0</th>\n",
       "      <td>1.073844</td>\n",
       "      <td>0.586491</td>\n",
       "    </tr>\n",
       "    <tr>\n",
       "      <th>1</th>\n",
       "      <td>1.050296</td>\n",
       "      <td>0.241025</td>\n",
       "    </tr>\n",
       "    <tr>\n",
       "      <th>2</th>\n",
       "      <td>0.726989</td>\n",
       "      <td>0.725950</td>\n",
       "    </tr>\n",
       "    <tr>\n",
       "      <th>3</th>\n",
       "      <td>1.253145</td>\n",
       "      <td>-0.064325</td>\n",
       "    </tr>\n",
       "  </tbody>\n",
       "</table>\n",
       "</div>"
      ],
      "text/plain": [
       "       boo1      boo2\n",
       "0  1.073844  0.586491\n",
       "1  1.050296  0.241025\n",
       "2  0.726989  0.725950\n",
       "3  1.253145 -0.064325"
      ]
     },
     "execution_count": 97,
     "metadata": {},
     "output_type": "execute_result"
    }
   ],
   "source": [
    "df = pd.DataFrame({'boo1': np.random.randn(4),\n",
    "                   'boo2': np.random.randn(4)})\n",
    "df"
   ]
  },
  {
   "cell_type": "code",
   "execution_count": 98,
   "metadata": {},
   "outputs": [
    {
     "data": {
      "text/plain": [
       "0    0.586491\n",
       "1    0.241025\n",
       "2    0.725950\n",
       "3   -0.064325\n",
       "Name: boo2, dtype: float64"
      ]
     },
     "execution_count": 98,
     "metadata": {},
     "output_type": "execute_result"
    }
   ],
   "source": [
    "df.boo2"
   ]
  }
 ],
 "metadata": {
  "kernelspec": {
   "display_name": "Python 3",
   "language": "python",
   "name": "python3"
  },
  "language_info": {
   "codemirror_mode": {
    "name": "ipython",
    "version": 3
   },
   "file_extension": ".py",
   "mimetype": "text/x-python",
   "name": "python",
   "nbconvert_exporter": "python",
   "pygments_lexer": "ipython3",
   "version": "3.7.1"
  }
 },
 "nbformat": 4,
 "nbformat_minor": 2
}
